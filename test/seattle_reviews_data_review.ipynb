{
 "cells": [
  {
   "cell_type": "code",
   "execution_count": 3,
   "metadata": {
    "collapsed": false
   },
   "outputs": [
    {
     "name": "stdout",
     "output_type": "stream",
     "text": [
      "The autoreload extension is already loaded. To reload it, use:\n",
      "  %reload_ext autoreload\n"
     ]
    }
   ],
   "source": [
    "import boto3\n",
    "\n",
    "import os\n",
    "\n",
    "import json\n",
    "\n",
    "import numpy as np\n",
    "import pandas as pd\n",
    "import matplotlib.pyplot as plt\n",
    "%matplotlib inline\n",
    "plt.style.use('ggplot')\n",
    "\n",
    "%load_ext autoreload\n",
    "%autoreload 2"
   ]
  },
  {
   "cell_type": "code",
   "execution_count": 5,
   "metadata": {
    "collapsed": true
   },
   "outputs": [],
   "source": [
    "jfolder = '../data/seattle-json/'\n",
    "\n",
    "files = os.listdir(jfolder)\n",
    "files = set(files)"
   ]
  },
  {
   "cell_type": "code",
   "execution_count": 6,
   "metadata": {
    "collapsed": false
   },
   "outputs": [],
   "source": [
    "### only run this code if you need to update from s3 bucket\n",
    "\n",
    "files = set(os.listdir(jfolder))\n",
    "\n",
    "# import sys\n",
    "# reload(sys)  # Reload does the trick!\n",
    "# sys.setdefaultencoding('UTF8')\n",
    "\n",
    "\n",
    "\n",
    "# bucket_name = 'wanderwell-world'\n",
    "# fnames = []\n",
    "\n",
    "# s3 =  boto3.resource('s3')\n",
    "# s3bucket = s3.Bucket(bucket_name)\n",
    "# for name in s3bucket.objects.all():\n",
    "#     fnames.append(name.key)\n",
    "\n",
    "# len(fnames)\n",
    "\n",
    "# for name in s3bucket.objects.all():\n",
    "#     fname = name.key\n",
    "#     if fname not in files and '.json' in fname :\n",
    "#         print fname\n",
    "#         s3.meta.client.download_file('wanderwell-world',\n",
    "#                                      fname,\n",
    "#                                     '{}{}'.format(jfolder,fname))\n",
    "    "
   ]
  },
  {
   "cell_type": "markdown",
   "metadata": {},
   "source": [
    "### FLATTENING THE DATAFRAME"
   ]
  },
  {
   "cell_type": "code",
   "execution_count": 7,
   "metadata": {
    "collapsed": false
   },
   "outputs": [
    {
     "data": {
      "text/plain": [
       "6403"
      ]
     },
     "execution_count": 7,
     "metadata": {},
     "output_type": "execute_result"
    }
   ],
   "source": [
    "len(os.listdir(jfolder))"
   ]
  },
  {
   "cell_type": "code",
   "execution_count": 8,
   "metadata": {
    "collapsed": false
   },
   "outputs": [],
   "source": [
    "daylist = ['mon', 'tues', 'wed', 'thurs', 'fri', 'sat', 'sun']\n",
    "\n",
    "poi_list = []\n",
    "cat_set = set()\n",
    "for bus in os.listdir(jfolder):\n",
    "    if bus.split('.')[-1] == 'json':\n",
    "            with open(jfolder+bus) as busfile:\n",
    "                bus_json = json.load(busfile)\n",
    "                cats = bus_json.pop('categories')\n",
    "                ### seperate hours into daily columns\n",
    "                if 'hours' in bus_json:\n",
    "                    hours_dict = bus_json.pop('hours')[0]['open']\n",
    "                else:\n",
    "                    hours_dict = None\n",
    "                for idx, day in enumerate(daylist) :\n",
    "                    try : \n",
    "                        bus_json['hours_open_{}'.format(day)] = hours_dict[idx]['start']\n",
    "                    except Exception: \n",
    "                        bus_json['hours_open_{}'.format(day)] = False\n",
    "                    try : \n",
    "                        bus_json['hours_closed_{}'.format(day)] = hours_dict[idx]['end']\n",
    "                    except Exception: \n",
    "                        bus_json['hours_closed_{}'.format(day)] = False\n",
    "                ### seprate catagories into individual columns (3 total)\n",
    "                for idx, val in enumerate(cats):\n",
    "                    bus_json['category-{}'.format(idx)] = val['alias']\n",
    "                    cat_set.add('cat: {}'.format(val['alias']))\n",
    "                poi_list.append(pd.io.json.json_normalize(bus_json))\n",
    "            continue\n",
    "\n",
    "seattle_df = pd.concat(poi_list)\n",
    "\n",
    "for cat in ['category-0','category-1','category-2']:\n",
    "    seattle_df[cat].fillna(False,inplace=True)"
   ]
  },
  {
   "cell_type": "code",
   "execution_count": 11,
   "metadata": {
    "collapsed": false
   },
   "outputs": [
    {
     "data": {
      "text/plain": [
       "id\n",
       "pike-place-chowder-seattle                4440\n",
       "paseo-caribbean-food-fremont-seattle-2    4305\n",
       "piroshky-piroshky-seattle                 4033\n",
       "serious-pie-seattle                       3195\n",
       "pike-place-market-seattle                 2978\n",
       "toulouse-petit-seattle                    2827\n",
       "lola-seattle                              2787\n",
       "umi-sake-house-seattle                    2661\n",
       "the-pink-door-seattle-4                   2561\n",
       "local-360-seattle-2                       1906\n",
       "Name: review_count, dtype: int64"
      ]
     },
     "execution_count": 11,
     "metadata": {},
     "output_type": "execute_result"
    }
   ],
   "source": [
    "seattle_df_ = seattle_df.set_index('id')\n",
    "seattle_df_['review_count'].nlargest(10)"
   ]
  },
  {
   "cell_type": "code",
   "execution_count": 12,
   "metadata": {
    "collapsed": false
   },
   "outputs": [
    {
     "data": {
      "text/plain": [
       "id\n",
       "pike-place-market-seattle                    6347\n",
       "space-needle-seattle                         3870\n",
       "piroshky-piroshky-seattle                    3744\n",
       "pike-place-chowder-seattle                   3425\n",
       "toulouse-petit-seattle                       3055\n",
       "din-tai-fung-seattle                         2650\n",
       "the-pink-door-seattle-4                      2454\n",
       "skycity-at-the-needle-seattle-3              2252\n",
       "umi-sake-house-seattle                       2062\n",
       "starbucks-seattle-88                         2018\n",
       "beechers-handmade-cheese-seattle             1938\n",
       "safeco-field-seattle                         1925\n",
       "biscuit-bitch-seattle                        1873\n",
       "the-walrus-and-the-carpenter-seattle         1698\n",
       "the-crumpet-shop-seattle                     1691\n",
       "serious-pie-seattle                          1680\n",
       "pike-place-market-gum-wall-seattle           1654\n",
       "le-panier-french-bakery-seattle              1584\n",
       "local-360-seattle-2                          1561\n",
       "paseo-caribbean-food-fremont-seattle-2       1558\n",
       "sushi-kashiba-seattle                        1539\n",
       "canlis-seattle                               1525\n",
       "moore-coffee-shop-seattle                    1491\n",
       "ba-bar-seattle                               1368\n",
       "tilikum-place-cafe-seattle-3                 1353\n",
       "skillet-capitol-hill-seattle-2               1346\n",
       "hot-cakes-molten-chocolate-cakery-seattle    1296\n",
       "saltys-alki-beach-seattle                    1270\n",
       "purple-café-and-wine-bar-seattle-3           1242\n",
       "serious-pie-and-biscuit-seattle-6            1230\n",
       "Name: photos, dtype: int64"
      ]
     },
     "execution_count": 12,
     "metadata": {},
     "output_type": "execute_result"
    }
   ],
   "source": [
    "n_photos = seattle_df_['photos'].apply(lambda x : len(x))\n",
    "n_photos.nlargest(30)\n",
    "# n_photos.sum()"
   ]
  },
  {
   "cell_type": "code",
   "execution_count": 15,
   "metadata": {
    "collapsed": false
   },
   "outputs": [
    {
     "data": {
      "text/plain": [
       "636848"
      ]
     },
     "execution_count": 15,
     "metadata": {},
     "output_type": "execute_result"
    }
   ],
   "source": [
    "seattle_df['review_count'].sum()"
   ]
  },
  {
   "cell_type": "code",
   "execution_count": 16,
   "metadata": {
    "collapsed": false
   },
   "outputs": [
    {
     "data": {
      "text/plain": [
       "99.49195438212779"
      ]
     },
     "execution_count": 16,
     "metadata": {},
     "output_type": "execute_result"
    }
   ],
   "source": [
    "seattle_df['review_count'].mean()"
   ]
  },
  {
   "cell_type": "code",
   "execution_count": 17,
   "metadata": {
    "collapsed": false
   },
   "outputs": [
    {
     "data": {
      "text/plain": [
       "coffee              381\n",
       "pizza               142\n",
       "newamerican         131\n",
       "mexican             118\n",
       "grocery             114\n",
       "bakeries            113\n",
       "vietnamese          106\n",
       "hair                105\n",
       "bars                102\n",
       "sandwiches           96\n",
       "thai                 87\n",
       "parks                85\n",
       "foodtrucks           85\n",
       "autorepair           81\n",
       "pubs                 73\n",
       "generaldentistry     73\n",
       "japanese             71\n",
       "delis                66\n",
       "italian              65\n",
       "tradamerican         64\n",
       "burgers              62\n",
       "hotdogs              62\n",
       "cafes                60\n",
       "seafood              59\n",
       "chinese              56\n",
       "sushi                51\n",
       "othersalons          50\n",
       "realestateagents     50\n",
       "lounges              47\n",
       "convenience          47\n",
       "Name: category-0, dtype: int64"
      ]
     },
     "execution_count": 17,
     "metadata": {},
     "output_type": "execute_result"
    }
   ],
   "source": [
    "seattle_df['category-0'].value_counts().nlargest(30)"
   ]
  },
  {
   "cell_type": "markdown",
   "metadata": {},
   "source": [
    "### JSON FILE OF LIST OF CATAGORIES IS  defined below"
   ]
  },
  {
   "cell_type": "code",
   "execution_count": 19,
   "metadata": {
    "collapsed": false
   },
   "outputs": [
    {
     "data": {
      "text/plain": [
       "alias\n",
       "3dprinting      localservices\n",
       "abruzzese             italian\n",
       "absinthebars             bars\n",
       "acaibowls                food\n",
       "accessories           fashion\n",
       "Name: 0, dtype: object"
      ]
     },
     "execution_count": 19,
     "metadata": {},
     "output_type": "execute_result"
    }
   ],
   "source": [
    "catfile = '../data/categories.json'\n",
    "\n",
    "with open(catfile) as cats:\n",
    "    cat_son = json.load(cats)\n",
    "\n",
    "cat_df = pd.DataFrame(cat_son)\n",
    "\n",
    "cat_key = cat_df.set_index('alias')['parents']\n",
    "cat_key_m = cat_key.apply(lambda x: pd.Series(x))\n",
    "cat_key_m = cat_key_m[0]\n",
    "cat_key_m.head()\n",
    "\n",
    "#### EXTRACT ALL THROW AWAY CATAGORIES\n",
    "\n",
    "cats_df = cat_key_m.reset_index()\n",
    "cats_df.columns = ['catagory', 'parent']\n",
    "cats_df.dropna(inplace=True)\n",
    "\n",
    "# has_service = cats_df['parent'].str.contains('service')\n",
    "# has_shopping = cats_df['parent'].str.contains('shopping')\n",
    "# has_health = cats_df['parent'].str.contains('health')\n",
    "# has_edu = cats_df['parent'].str.contains('education')\n",
    "# has_fit = cats_df['parent'].str.contains('fitness')\n",
    "# has_auto = cats_df['parent'].str.contains('auto')\n",
    "\n",
    "# dumps = has_service + has_health  + has_auto + has_edu + has_fit\n",
    "\n",
    "# dump_cats = cats_df[dumps.values]\n",
    "# has_dump = set(dump_cats['catagory'].values)\n",
    "\n",
    "#### EXTRACT ALL FOOD CATAGORIES\n",
    "\n",
    "cats_df = cat_key_m.reset_index()\n",
    "cats_df.columns = ['catagory', 'parent']\n",
    "food_bool = cats_df['parent'] == 'food'\n",
    "rest_bool = cats_df['parent'] == 'restaurants'\n",
    "all_food_bool = food_bool + rest_bool\n",
    "\n",
    "food_cats = cats_df[all_food_bool]\n",
    "has_food = set(food_cats['catagory'].values)\n",
    "\n",
    "food_cats.head()\n",
    "\n",
    "#### EXTRACT ALL NIGHTLIFE CATAGORIES\n",
    "\n",
    "cats_df = cat_key_m.reset_index()\n",
    "cats_df.columns = ['catagory', 'parent']\n",
    "club_bool = cats_df['parent'] == 'nightlife'\n",
    "bar_bool = cats_df['parent'] == 'bars'\n",
    "beer_bool = cats_df['parent'].str.contains('beer').fillna(False)\n",
    "wine_bool = cats_df['parent'].str.contains('wine').fillna(False)\n",
    "cocktail_bool = cats_df['parent'].str.contains('cocktail').fillna(False)\n",
    "\n",
    "all_drink_bool = club_bool + bar_bool + beer_bool + wine_bool + cocktail_bool\n",
    "\n",
    "nightlife_cats = cats_df[all_drink_bool]\n",
    "has_nightlife = set(nightlife_cats['catagory'].values)\n",
    "\n",
    "print nightlife_cats.shape\n",
    "nightlife_cats.head()\n",
    "\n",
    "#### EXTRACT ALL COFFEE CATAGORIES\n",
    "has_coffee = cats_df['catagory'].str.contains('coffee').fillna(False)\n",
    "coffee_cats = cats_df[has_coffee]\n",
    "has_coffee = set(coffee_cats['catagory'].values)\n",
    "\n",
    "print coffee_cats.shape\n",
    "coffee_cats[coffee_cats['catagory'].str.contains('tea')].head()\n",
    "\n",
    "## ADD CATAGORIES TO DATAFRAME\n",
    "\n",
    "seattle_df_ = seattle_df.copy()\n",
    "\n",
    "seattle_df_['coffee'] = seattle_df_['category-0'].isin(has_coffee)\n",
    "seattle_df_['coffee'] = seattle_df_['coffee'] + seattle_df_['category-1'].isin(has_coffee)\n",
    "seattle_df_['coffee'] = seattle_df_['coffee'] + seattle_df_['category-2'].isin(has_coffee)\n",
    "\n",
    "\n",
    "seattle_df_['food'] = seattle_df_['category-0'].isin(has_food)\n",
    "seattle_df_['food'] = seattle_df_['food'] + seattle_df_['category-1'].isin(has_food)\n",
    "seattle_df_['food'] = seattle_df_['food'] + seattle_df_['category-2'].isin(has_food)\n",
    "\n",
    "seattle_df_['nightlife'] = seattle_df_['category-0'].isin(has_nightlife)\n",
    "seattle_df_['nightlife'] = seattle_df_['nightlife'] + seattle_df_['category-1'].isin(has_food)\n",
    "seattle_df_['nightlife'] = seattle_df_['nightlife'] + seattle_df_['category-2'].isin(has_food)\n",
    "\n",
    "seattle_df_['dump'] = seattle_df_['category-0'].isin(has_dump)\n",
    "seattle_df_['dump'] = seattle_df_['nightlife'] + seattle_df_['category-1'].isin(has_dump)\n",
    "seattle_df_['dump'] = seattle_df_['nightlife'] + seattle_df_['category-2'].isin(has_dump)\n",
    "seattle_df_['dump'] = seattle_df_['dump'] * np.invert(seattle_df_['food'])\n",
    "seattle_df_['dump'] = seattle_df_['dump'] * np.invert(seattle_df_['coffee'])\n",
    "seattle_df_['dump'] = seattle_df_['dump'] * np.invert(seattle_df_['nightlife'])"
   ]
  },
  {
   "cell_type": "code",
   "execution_count": 28,
   "metadata": {
    "collapsed": true
   },
   "outputs": [],
   "source": [
    "seattle_df_ = seattle_df_[seattle_df_['dump'] ==  False]"
   ]
  },
  {
   "cell_type": "code",
   "execution_count": 51,
   "metadata": {
    "collapsed": false
   },
   "outputs": [
    {
     "data": {
      "text/html": [
       "<div>\n",
       "<table border=\"1\" class=\"dataframe\">\n",
       "  <thead>\n",
       "    <tr style=\"text-align: right;\">\n",
       "      <th></th>\n",
       "      <th>0</th>\n",
       "      <th>0</th>\n",
       "      <th>0</th>\n",
       "      <th>0</th>\n",
       "    </tr>\n",
       "  </thead>\n",
       "  <tbody>\n",
       "    <tr>\n",
       "      <th>category-0</th>\n",
       "      <td>florists</td>\n",
       "      <td>junkremovalandhauling</td>\n",
       "      <td>venues</td>\n",
       "      <td>bedbreakfast</td>\n",
       "    </tr>\n",
       "    <tr>\n",
       "      <th>category-1</th>\n",
       "      <td>giftshops</td>\n",
       "      <td>False</td>\n",
       "      <td>False</td>\n",
       "      <td>False</td>\n",
       "    </tr>\n",
       "    <tr>\n",
       "      <th>category-2</th>\n",
       "      <td>False</td>\n",
       "      <td>False</td>\n",
       "      <td>False</td>\n",
       "      <td>False</td>\n",
       "    </tr>\n",
       "    <tr>\n",
       "      <th>category-3</th>\n",
       "      <td>NaN</td>\n",
       "      <td>NaN</td>\n",
       "      <td>NaN</td>\n",
       "      <td>NaN</td>\n",
       "    </tr>\n",
       "    <tr>\n",
       "      <th>coordinates.latitude</th>\n",
       "      <td>47.6207</td>\n",
       "      <td>47.575</td>\n",
       "      <td>47.6129</td>\n",
       "      <td>47.6194</td>\n",
       "    </tr>\n",
       "    <tr>\n",
       "      <th>coordinates.longitude</th>\n",
       "      <td>-122.312</td>\n",
       "      <td>-122.321</td>\n",
       "      <td>-122.315</td>\n",
       "      <td>-122.319</td>\n",
       "    </tr>\n",
       "    <tr>\n",
       "      <th>display_phone</th>\n",
       "      <td>(206) 325-5068</td>\n",
       "      <td>(800) 468-5865</td>\n",
       "      <td>(206) 213-5710</td>\n",
       "      <td>(206) 720-7161</td>\n",
       "    </tr>\n",
       "    <tr>\n",
       "      <th>hours_closed_fri</th>\n",
       "      <td>1800</td>\n",
       "      <td>1800</td>\n",
       "      <td>2300</td>\n",
       "      <td>0000</td>\n",
       "    </tr>\n",
       "    <tr>\n",
       "      <th>hours_closed_mon</th>\n",
       "      <td>1800</td>\n",
       "      <td>1800</td>\n",
       "      <td>2300</td>\n",
       "      <td>0000</td>\n",
       "    </tr>\n",
       "    <tr>\n",
       "      <th>hours_closed_sat</th>\n",
       "      <td>1300</td>\n",
       "      <td>1800</td>\n",
       "      <td>2300</td>\n",
       "      <td>0000</td>\n",
       "    </tr>\n",
       "    <tr>\n",
       "      <th>hours_closed_sun</th>\n",
       "      <td>False</td>\n",
       "      <td>1800</td>\n",
       "      <td>2300</td>\n",
       "      <td>0000</td>\n",
       "    </tr>\n",
       "    <tr>\n",
       "      <th>hours_closed_thurs</th>\n",
       "      <td>1800</td>\n",
       "      <td>1800</td>\n",
       "      <td>2300</td>\n",
       "      <td>0000</td>\n",
       "    </tr>\n",
       "    <tr>\n",
       "      <th>hours_closed_tues</th>\n",
       "      <td>1800</td>\n",
       "      <td>1800</td>\n",
       "      <td>2300</td>\n",
       "      <td>0000</td>\n",
       "    </tr>\n",
       "    <tr>\n",
       "      <th>hours_closed_wed</th>\n",
       "      <td>1800</td>\n",
       "      <td>1800</td>\n",
       "      <td>2300</td>\n",
       "      <td>0000</td>\n",
       "    </tr>\n",
       "    <tr>\n",
       "      <th>hours_open_fri</th>\n",
       "      <td>0830</td>\n",
       "      <td>0700</td>\n",
       "      <td>0700</td>\n",
       "      <td>0000</td>\n",
       "    </tr>\n",
       "    <tr>\n",
       "      <th>hours_open_mon</th>\n",
       "      <td>0830</td>\n",
       "      <td>0700</td>\n",
       "      <td>0700</td>\n",
       "      <td>0000</td>\n",
       "    </tr>\n",
       "    <tr>\n",
       "      <th>hours_open_sat</th>\n",
       "      <td>0900</td>\n",
       "      <td>0700</td>\n",
       "      <td>0700</td>\n",
       "      <td>0000</td>\n",
       "    </tr>\n",
       "    <tr>\n",
       "      <th>hours_open_sun</th>\n",
       "      <td>False</td>\n",
       "      <td>0900</td>\n",
       "      <td>0700</td>\n",
       "      <td>0000</td>\n",
       "    </tr>\n",
       "    <tr>\n",
       "      <th>hours_open_thurs</th>\n",
       "      <td>0830</td>\n",
       "      <td>0700</td>\n",
       "      <td>0700</td>\n",
       "      <td>0000</td>\n",
       "    </tr>\n",
       "    <tr>\n",
       "      <th>hours_open_tues</th>\n",
       "      <td>0830</td>\n",
       "      <td>0700</td>\n",
       "      <td>0700</td>\n",
       "      <td>0000</td>\n",
       "    </tr>\n",
       "    <tr>\n",
       "      <th>hours_open_wed</th>\n",
       "      <td>0830</td>\n",
       "      <td>0700</td>\n",
       "      <td>0700</td>\n",
       "      <td>0000</td>\n",
       "    </tr>\n",
       "    <tr>\n",
       "      <th>id</th>\n",
       "      <td>1-800-flowers-4-gift-seattle-seattle</td>\n",
       "      <td>1-800-got-junk-seattle-seattle-2</td>\n",
       "      <td>10-degrees-seattle</td>\n",
       "      <td>11th-avenue-inn-bed-and-breakfast-seattle-2</td>\n",
       "    </tr>\n",
       "    <tr>\n",
       "      <th>image_url</th>\n",
       "      <td>https://s3-media1.fl.yelpcdn.com/bphoto/WCZxLW...</td>\n",
       "      <td>https://s3-media1.fl.yelpcdn.com/bphoto/6q1aBe...</td>\n",
       "      <td>https://s3-media4.fl.yelpcdn.com/bphoto/ICr8Nq...</td>\n",
       "      <td>https://s3-media3.fl.yelpcdn.com/bphoto/ZEuxcL...</td>\n",
       "    </tr>\n",
       "    <tr>\n",
       "      <th>is_claimed</th>\n",
       "      <td>True</td>\n",
       "      <td>True</td>\n",
       "      <td>True</td>\n",
       "      <td>True</td>\n",
       "    </tr>\n",
       "    <tr>\n",
       "      <th>is_closed</th>\n",
       "      <td>False</td>\n",
       "      <td>False</td>\n",
       "      <td>False</td>\n",
       "      <td>False</td>\n",
       "    </tr>\n",
       "    <tr>\n",
       "      <th>location.address1</th>\n",
       "      <td>300 15th Ave E</td>\n",
       "      <td>3100 Airport Way S.</td>\n",
       "      <td>1312 E Union St</td>\n",
       "      <td>121 11th Avenue E</td>\n",
       "    </tr>\n",
       "    <tr>\n",
       "      <th>location.address2</th>\n",
       "      <td></td>\n",
       "      <td>#70</td>\n",
       "      <td>None</td>\n",
       "      <td></td>\n",
       "    </tr>\n",
       "    <tr>\n",
       "      <th>location.address3</th>\n",
       "      <td></td>\n",
       "      <td></td>\n",
       "      <td></td>\n",
       "      <td></td>\n",
       "    </tr>\n",
       "    <tr>\n",
       "      <th>location.city</th>\n",
       "      <td>Seattle</td>\n",
       "      <td>Seattle</td>\n",
       "      <td>Seattle</td>\n",
       "      <td>Seattle</td>\n",
       "    </tr>\n",
       "    <tr>\n",
       "      <th>location.country</th>\n",
       "      <td>US</td>\n",
       "      <td>US</td>\n",
       "      <td>US</td>\n",
       "      <td>US</td>\n",
       "    </tr>\n",
       "    <tr>\n",
       "      <th>location.cross_streets</th>\n",
       "      <td>Thomas St</td>\n",
       "      <td>Hanford St &amp; Stevens St</td>\n",
       "      <td>13th Ave &amp; 14th Ave</td>\n",
       "      <td>John St &amp; Denny Way</td>\n",
       "    </tr>\n",
       "    <tr>\n",
       "      <th>location.display_address</th>\n",
       "      <td>[300 15th Ave E, Seattle, WA 98112]</td>\n",
       "      <td>[3100 Airport Way S., #70, Seattle, WA 98134]</td>\n",
       "      <td>[1312 E Union St, Seattle, WA 98122]</td>\n",
       "      <td>[121 11th Avenue E, Seattle, WA 98102]</td>\n",
       "    </tr>\n",
       "    <tr>\n",
       "      <th>location.state</th>\n",
       "      <td>WA</td>\n",
       "      <td>WA</td>\n",
       "      <td>WA</td>\n",
       "      <td>WA</td>\n",
       "    </tr>\n",
       "    <tr>\n",
       "      <th>location.zip_code</th>\n",
       "      <td>98112</td>\n",
       "      <td>98134</td>\n",
       "      <td>98122</td>\n",
       "      <td>98102</td>\n",
       "    </tr>\n",
       "    <tr>\n",
       "      <th>name</th>\n",
       "      <td>1-800-flowers 4 Gift Seattle</td>\n",
       "      <td>1-800-GOT-JUNK? Seattle</td>\n",
       "      <td>10 degrees</td>\n",
       "      <td>11th Avenue Inn Bed and Breakfast</td>\n",
       "    </tr>\n",
       "    <tr>\n",
       "      <th>phone</th>\n",
       "      <td>+12063255068</td>\n",
       "      <td>+18004685865</td>\n",
       "      <td>+12062135710</td>\n",
       "      <td>+12067207161</td>\n",
       "    </tr>\n",
       "    <tr>\n",
       "      <th>photos</th>\n",
       "      <td>[https://s3-media4.fl.yelpcdn.com/bphoto/WCZxL...</td>\n",
       "      <td>[https://s3-media4.fl.yelpcdn.com/bphoto/6q1aB...</td>\n",
       "      <td>[https://s3-media4.fl.yelpcdn.com/bphoto/ICr8N...</td>\n",
       "      <td>[https://s3-media4.fl.yelpcdn.com/bphoto/ZEuxc...</td>\n",
       "    </tr>\n",
       "    <tr>\n",
       "      <th>price</th>\n",
       "      <td>$$$</td>\n",
       "      <td>NaN</td>\n",
       "      <td>NaN</td>\n",
       "      <td>NaN</td>\n",
       "    </tr>\n",
       "    <tr>\n",
       "      <th>rating</th>\n",
       "      <td>3.5</td>\n",
       "      <td>4</td>\n",
       "      <td>5</td>\n",
       "      <td>5</td>\n",
       "    </tr>\n",
       "    <tr>\n",
       "      <th>review_count</th>\n",
       "      <td>40</td>\n",
       "      <td>95</td>\n",
       "      <td>26</td>\n",
       "      <td>53</td>\n",
       "    </tr>\n",
       "    <tr>\n",
       "      <th>reviews</th>\n",
       "      <td>[{u'content': u'I've been a regular to this fl...</td>\n",
       "      <td>[{u'content': u'I was afraid that, since this ...</td>\n",
       "      <td>[{u'content': u'BEAUTIFUL event space. So much...</td>\n",
       "      <td>[{u'content': u'My boyfriend and I took a long...</td>\n",
       "    </tr>\n",
       "    <tr>\n",
       "      <th>transactions</th>\n",
       "      <td>[]</td>\n",
       "      <td>[]</td>\n",
       "      <td>[]</td>\n",
       "      <td>[]</td>\n",
       "    </tr>\n",
       "    <tr>\n",
       "      <th>url</th>\n",
       "      <td>https://www.yelp.com/biz/1-800-flowers-4-gift-...</td>\n",
       "      <td>https://www.yelp.com/biz/1-800-got-junk-seattl...</td>\n",
       "      <td>https://www.yelp.com/biz/10-degrees-seattle?ad...</td>\n",
       "      <td>https://www.yelp.com/biz/11th-avenue-inn-bed-a...</td>\n",
       "    </tr>\n",
       "  </tbody>\n",
       "</table>\n",
       "</div>"
      ],
      "text/plain": [
       "                                                                          0  \\\n",
       "category-0                                                         florists   \n",
       "category-1                                                        giftshops   \n",
       "category-2                                                            False   \n",
       "category-3                                                              NaN   \n",
       "coordinates.latitude                                                47.6207   \n",
       "coordinates.longitude                                              -122.312   \n",
       "display_phone                                                (206) 325-5068   \n",
       "hours_closed_fri                                                       1800   \n",
       "hours_closed_mon                                                       1800   \n",
       "hours_closed_sat                                                       1300   \n",
       "hours_closed_sun                                                      False   \n",
       "hours_closed_thurs                                                     1800   \n",
       "hours_closed_tues                                                      1800   \n",
       "hours_closed_wed                                                       1800   \n",
       "hours_open_fri                                                         0830   \n",
       "hours_open_mon                                                         0830   \n",
       "hours_open_sat                                                         0900   \n",
       "hours_open_sun                                                        False   \n",
       "hours_open_thurs                                                       0830   \n",
       "hours_open_tues                                                        0830   \n",
       "hours_open_wed                                                         0830   \n",
       "id                                     1-800-flowers-4-gift-seattle-seattle   \n",
       "image_url                 https://s3-media1.fl.yelpcdn.com/bphoto/WCZxLW...   \n",
       "is_claimed                                                             True   \n",
       "is_closed                                                             False   \n",
       "location.address1                                            300 15th Ave E   \n",
       "location.address2                                                             \n",
       "location.address3                                                             \n",
       "location.city                                                       Seattle   \n",
       "location.country                                                         US   \n",
       "location.cross_streets                                            Thomas St   \n",
       "location.display_address                [300 15th Ave E, Seattle, WA 98112]   \n",
       "location.state                                                           WA   \n",
       "location.zip_code                                                     98112   \n",
       "name                                           1-800-flowers 4 Gift Seattle   \n",
       "phone                                                          +12063255068   \n",
       "photos                    [https://s3-media4.fl.yelpcdn.com/bphoto/WCZxL...   \n",
       "price                                                                   $$$   \n",
       "rating                                                                  3.5   \n",
       "review_count                                                             40   \n",
       "reviews                   [{u'content': u'I've been a regular to this fl...   \n",
       "transactions                                                             []   \n",
       "url                       https://www.yelp.com/biz/1-800-flowers-4-gift-...   \n",
       "\n",
       "                                                                          0  \\\n",
       "category-0                                            junkremovalandhauling   \n",
       "category-1                                                            False   \n",
       "category-2                                                            False   \n",
       "category-3                                                              NaN   \n",
       "coordinates.latitude                                                 47.575   \n",
       "coordinates.longitude                                              -122.321   \n",
       "display_phone                                                (800) 468-5865   \n",
       "hours_closed_fri                                                       1800   \n",
       "hours_closed_mon                                                       1800   \n",
       "hours_closed_sat                                                       1800   \n",
       "hours_closed_sun                                                       1800   \n",
       "hours_closed_thurs                                                     1800   \n",
       "hours_closed_tues                                                      1800   \n",
       "hours_closed_wed                                                       1800   \n",
       "hours_open_fri                                                         0700   \n",
       "hours_open_mon                                                         0700   \n",
       "hours_open_sat                                                         0700   \n",
       "hours_open_sun                                                         0900   \n",
       "hours_open_thurs                                                       0700   \n",
       "hours_open_tues                                                        0700   \n",
       "hours_open_wed                                                         0700   \n",
       "id                                         1-800-got-junk-seattle-seattle-2   \n",
       "image_url                 https://s3-media1.fl.yelpcdn.com/bphoto/6q1aBe...   \n",
       "is_claimed                                                             True   \n",
       "is_closed                                                             False   \n",
       "location.address1                                       3100 Airport Way S.   \n",
       "location.address2                                                       #70   \n",
       "location.address3                                                             \n",
       "location.city                                                       Seattle   \n",
       "location.country                                                         US   \n",
       "location.cross_streets                              Hanford St & Stevens St   \n",
       "location.display_address      [3100 Airport Way S., #70, Seattle, WA 98134]   \n",
       "location.state                                                           WA   \n",
       "location.zip_code                                                     98134   \n",
       "name                                                1-800-GOT-JUNK? Seattle   \n",
       "phone                                                          +18004685865   \n",
       "photos                    [https://s3-media4.fl.yelpcdn.com/bphoto/6q1aB...   \n",
       "price                                                                   NaN   \n",
       "rating                                                                    4   \n",
       "review_count                                                             95   \n",
       "reviews                   [{u'content': u'I was afraid that, since this ...   \n",
       "transactions                                                             []   \n",
       "url                       https://www.yelp.com/biz/1-800-got-junk-seattl...   \n",
       "\n",
       "                                                                          0  \\\n",
       "category-0                                                           venues   \n",
       "category-1                                                            False   \n",
       "category-2                                                            False   \n",
       "category-3                                                              NaN   \n",
       "coordinates.latitude                                                47.6129   \n",
       "coordinates.longitude                                              -122.315   \n",
       "display_phone                                                (206) 213-5710   \n",
       "hours_closed_fri                                                       2300   \n",
       "hours_closed_mon                                                       2300   \n",
       "hours_closed_sat                                                       2300   \n",
       "hours_closed_sun                                                       2300   \n",
       "hours_closed_thurs                                                     2300   \n",
       "hours_closed_tues                                                      2300   \n",
       "hours_closed_wed                                                       2300   \n",
       "hours_open_fri                                                         0700   \n",
       "hours_open_mon                                                         0700   \n",
       "hours_open_sat                                                         0700   \n",
       "hours_open_sun                                                         0700   \n",
       "hours_open_thurs                                                       0700   \n",
       "hours_open_tues                                                        0700   \n",
       "hours_open_wed                                                         0700   \n",
       "id                                                       10-degrees-seattle   \n",
       "image_url                 https://s3-media4.fl.yelpcdn.com/bphoto/ICr8Nq...   \n",
       "is_claimed                                                             True   \n",
       "is_closed                                                             False   \n",
       "location.address1                                           1312 E Union St   \n",
       "location.address2                                                      None   \n",
       "location.address3                                                             \n",
       "location.city                                                       Seattle   \n",
       "location.country                                                         US   \n",
       "location.cross_streets                                  13th Ave & 14th Ave   \n",
       "location.display_address               [1312 E Union St, Seattle, WA 98122]   \n",
       "location.state                                                           WA   \n",
       "location.zip_code                                                     98122   \n",
       "name                                                             10 degrees   \n",
       "phone                                                          +12062135710   \n",
       "photos                    [https://s3-media4.fl.yelpcdn.com/bphoto/ICr8N...   \n",
       "price                                                                   NaN   \n",
       "rating                                                                    5   \n",
       "review_count                                                             26   \n",
       "reviews                   [{u'content': u'BEAUTIFUL event space. So much...   \n",
       "transactions                                                             []   \n",
       "url                       https://www.yelp.com/biz/10-degrees-seattle?ad...   \n",
       "\n",
       "                                                                          0  \n",
       "category-0                                                     bedbreakfast  \n",
       "category-1                                                            False  \n",
       "category-2                                                            False  \n",
       "category-3                                                              NaN  \n",
       "coordinates.latitude                                                47.6194  \n",
       "coordinates.longitude                                              -122.319  \n",
       "display_phone                                                (206) 720-7161  \n",
       "hours_closed_fri                                                       0000  \n",
       "hours_closed_mon                                                       0000  \n",
       "hours_closed_sat                                                       0000  \n",
       "hours_closed_sun                                                       0000  \n",
       "hours_closed_thurs                                                     0000  \n",
       "hours_closed_tues                                                      0000  \n",
       "hours_closed_wed                                                       0000  \n",
       "hours_open_fri                                                         0000  \n",
       "hours_open_mon                                                         0000  \n",
       "hours_open_sat                                                         0000  \n",
       "hours_open_sun                                                         0000  \n",
       "hours_open_thurs                                                       0000  \n",
       "hours_open_tues                                                        0000  \n",
       "hours_open_wed                                                         0000  \n",
       "id                              11th-avenue-inn-bed-and-breakfast-seattle-2  \n",
       "image_url                 https://s3-media3.fl.yelpcdn.com/bphoto/ZEuxcL...  \n",
       "is_claimed                                                             True  \n",
       "is_closed                                                             False  \n",
       "location.address1                                         121 11th Avenue E  \n",
       "location.address2                                                            \n",
       "location.address3                                                            \n",
       "location.city                                                       Seattle  \n",
       "location.country                                                         US  \n",
       "location.cross_streets                                  John St & Denny Way  \n",
       "location.display_address             [121 11th Avenue E, Seattle, WA 98102]  \n",
       "location.state                                                           WA  \n",
       "location.zip_code                                                     98102  \n",
       "name                                      11th Avenue Inn Bed and Breakfast  \n",
       "phone                                                          +12067207161  \n",
       "photos                    [https://s3-media4.fl.yelpcdn.com/bphoto/ZEuxc...  \n",
       "price                                                                   NaN  \n",
       "rating                                                                    5  \n",
       "review_count                                                             53  \n",
       "reviews                   [{u'content': u'My boyfriend and I took a long...  \n",
       "transactions                                                             []  \n",
       "url                       https://www.yelp.com/biz/11th-avenue-inn-bed-a...  "
      ]
     },
     "execution_count": 51,
     "metadata": {},
     "output_type": "execute_result"
    }
   ],
   "source": [
    "seattle_df.head(4).T"
   ]
  },
  {
   "cell_type": "code",
   "execution_count": 53,
   "metadata": {
    "collapsed": false
   },
   "outputs": [
    {
     "name": "stdout",
     "output_type": "stream",
     "text": [
      "https://s3-media1.fl.yelpcdn.com/bphoto/WCZxLWnVGJHSXPJ5xpo9MQ/o.jpg\n",
      "https://s3-media1.fl.yelpcdn.com/bphoto/6q1aBefKTYFRG8Balb-NJQ/o.jpg\n",
      "https://s3-media4.fl.yelpcdn.com/bphoto/ICr8NqZJK7ZdjLZgXNwONA/o.jpg\n",
      "https://s3-media3.fl.yelpcdn.com/bphoto/ZEuxcL-fEeSMFeHNrksvPw/o.jpg\n",
      "https://s3-media2.fl.yelpcdn.com/bphoto/9V6HxGTs0g2fR4f1JzYgWw/o.jpg\n",
      "https://s3-media4.fl.yelpcdn.com/bphoto/3igDfT1K39oRnewZ9BcDxw/o.jpg\n",
      "https://s3-media2.fl.yelpcdn.com/bphoto/qSiVH6_ua4ObZVMbt55EYw/o.jpg\n",
      "\n",
      "https://s3-media1.fl.yelpcdn.com/bphoto/Sg0mvamkth9EW4uirYgdfg/o.jpg\n",
      "https://s3-media3.fl.yelpcdn.com/bphoto/_uY5jjr9iDEXHpPuueswGw/o.jpg\n",
      "https://s3-media3.fl.yelpcdn.com/bphoto/2VxKskyGR2kAC_Q0wQP8eA/o.jpg\n",
      "https://s3-media3.fl.yelpcdn.com/bphoto/1WGgrSbW3K0mSb1CuuYxHw/o.jpg\n",
      "https://s3-media4.fl.yelpcdn.com/bphoto/XJRoBM54YMRX8hlwXGZf1Q/o.jpg\n",
      "https://s3-media2.fl.yelpcdn.com/bphoto/yayy9xFZcaG_u6Gv8Sa-0Q/o.jpg\n",
      "https://s3-media3.fl.yelpcdn.com/bphoto/XynL0tez117a0X85eXcwcg/o.jpg\n",
      "https://s3-media4.fl.yelpcdn.com/bphoto/Jv5_DexhMAcLLjCwB8oslQ/o.jpg\n",
      "https://s3-media1.fl.yelpcdn.com/bphoto/77OV6jYzLRr03Tjrgtvarw/o.jpg\n",
      "https://s3-media1.fl.yelpcdn.com/bphoto/MTSwp2nOPjESqdKSs0N3jg/o.jpg\n",
      "https://s3-media1.fl.yelpcdn.com/bphoto/LVnXms035e0pJ-RLcrqoPQ/o.jpg\n",
      "\n",
      "https://s3-media4.fl.yelpcdn.com/bphoto/3-oa0egc_MDFq4nCiCtWFw/o.jpg\n",
      "https://s3-media2.fl.yelpcdn.com/bphoto/r7ETsDVsQLKSarVkcj3kxA/o.jpg\n",
      "https://s3-media2.fl.yelpcdn.com/bphoto/UwnTCgfSl2aVHCxLmi2ZmQ/o.jpg\n",
      "https://s3-media4.fl.yelpcdn.com/bphoto/-41wqeGvl3HBuCKfAWlI-w/o.jpg\n",
      "https://s3-media3.fl.yelpcdn.com/bphoto/up2j-cxA07AbtcbXuJeUeg/o.jpg\n",
      "https://s3-media2.fl.yelpcdn.com/bphoto/hBwvPoGNdL1t9XKkU9lKnw/o.jpg\n",
      "https://s3-media3.fl.yelpcdn.com/bphoto/xJV5WAaJeuqJENDkvchyJw/o.jpg\n",
      "https://s3-media3.fl.yelpcdn.com/bphoto/UrUsIIx-6KZfNchv3aYeEQ/o.jpg\n",
      "\n",
      "https://s3-media3.fl.yelpcdn.com/bphoto/Od5w3zxSgcMox8cUnXq0iQ/o.jpg\n"
     ]
    }
   ],
   "source": [
    "for item in seattle_df['image_url'][0][:30]:\n",
    "    print item"
   ]
  },
  {
   "cell_type": "code",
   "execution_count": 31,
   "metadata": {
    "collapsed": false
   },
   "outputs": [
    {
     "data": {
      "text/plain": [
       "3383"
      ]
     },
     "execution_count": 31,
     "metadata": {},
     "output_type": "execute_result"
    }
   ],
   "source": [
    "seattle_df_.food.sum()"
   ]
  },
  {
   "cell_type": "code",
   "execution_count": 32,
   "metadata": {
    "collapsed": false
   },
   "outputs": [
    {
     "data": {
      "text/plain": [
       "485"
      ]
     },
     "execution_count": 32,
     "metadata": {},
     "output_type": "execute_result"
    }
   ],
   "source": [
    "seattle_df_.coffee.sum()"
   ]
  },
  {
   "cell_type": "code",
   "execution_count": 33,
   "metadata": {
    "collapsed": false
   },
   "outputs": [
    {
     "data": {
      "text/plain": [
       "2400"
      ]
     },
     "execution_count": 33,
     "metadata": {},
     "output_type": "execute_result"
    }
   ],
   "source": [
    "seattle_df_.nightlife.sum()"
   ]
  },
  {
   "cell_type": "code",
   "execution_count": 34,
   "metadata": {
    "collapsed": false
   },
   "outputs": [
    {
     "data": {
      "text/plain": [
       "u'flowers'"
      ]
     },
     "execution_count": 34,
     "metadata": {},
     "output_type": "execute_result"
    }
   ],
   "source": [
    "cat_key_m['florists']"
   ]
  },
  {
   "cell_type": "markdown",
   "metadata": {},
   "source": [
    "### Plot datapoints on google map file"
   ]
  },
  {
   "cell_type": "code",
   "execution_count": 46,
   "metadata": {
    "collapsed": false
   },
   "outputs": [],
   "source": [
    "from gmplot import GoogleMapPlotter\n",
    "\n",
    "s_lat = '47.629458' \n",
    "s_long = '-122.336338'\n",
    "\n",
    "lats = seattle_df['coordinates.latitude'].values\n",
    "longs = seattle_df['coordinates.longitude'].values\n",
    "\n",
    "gmap = GoogleMapPlotter(s_lat, s_long, 13)\n",
    "\n",
    "\n",
    "gmap.plot?\n",
    "# gmap.plot(lats, longs, 'cornflowerblue', edge_width=10)\n",
    "# gmap.scatter(lats, longs, '#3B0B39', size=4, marker=False)\n",
    "# gmap.scatter(lats, longs, 'k', marker=True)\n",
    "# gmap.heatmap(lats, longs)\n",
    "\n",
    "# gmap.draw(\"../data/mymap_seattle.html\")\n",
    "gmap.draw('../data/seattle.html')"
   ]
  },
  {
   "cell_type": "code",
   "execution_count": null,
   "metadata": {
    "collapsed": false
   },
   "outputs": [],
   "source": [
    "pwd"
   ]
  },
  {
   "cell_type": "code",
   "execution_count": null,
   "metadata": {
    "collapsed": false
   },
   "outputs": [],
   "source": [
    "for reviews, name in (seattle_df[['reviews', 'name']].values[:2,:]):\n",
    "    print name"
   ]
  },
  {
   "cell_type": "code",
   "execution_count": 39,
   "metadata": {
    "collapsed": false
   },
   "outputs": [
    {
     "data": {
      "text/plain": [
       "Index([              u'category-0',               u'category-1',\n",
       "                     u'category-2',               u'category-3',\n",
       "           u'coordinates.latitude',    u'coordinates.longitude',\n",
       "                  u'display_phone',         u'hours_closed_fri',\n",
       "               u'hours_closed_mon',         u'hours_closed_sat',\n",
       "               u'hours_closed_sun',       u'hours_closed_thurs',\n",
       "              u'hours_closed_tues',         u'hours_closed_wed',\n",
       "                 u'hours_open_fri',           u'hours_open_mon',\n",
       "                 u'hours_open_sat',           u'hours_open_sun',\n",
       "               u'hours_open_thurs',          u'hours_open_tues',\n",
       "                 u'hours_open_wed',                       u'id',\n",
       "                      u'image_url',               u'is_claimed',\n",
       "                      u'is_closed',        u'location.address1',\n",
       "              u'location.address2',        u'location.address3',\n",
       "                  u'location.city',         u'location.country',\n",
       "         u'location.cross_streets', u'location.display_address',\n",
       "                 u'location.state',        u'location.zip_code',\n",
       "                           u'name',                    u'phone',\n",
       "                         u'photos',                    u'price',\n",
       "                         u'rating',             u'review_count',\n",
       "                        u'reviews',             u'transactions',\n",
       "                            u'url',                   u'coffee',\n",
       "                           u'food',                u'nightlife',\n",
       "                           u'dump'],\n",
       "      dtype='object')"
      ]
     },
     "execution_count": 39,
     "metadata": {},
     "output_type": "execute_result"
    }
   ],
   "source": [
    "seattle_df_.columns"
   ]
  },
  {
   "cell_type": "code",
   "execution_count": 48,
   "metadata": {
    "collapsed": false
   },
   "outputs": [
    {
     "data": {
      "text/plain": [
       "Index([              u'category-0',               u'category-1',\n",
       "                     u'category-2',               u'category-3',\n",
       "           u'coordinates.latitude',    u'coordinates.longitude',\n",
       "                  u'display_phone',         u'hours_closed_fri',\n",
       "               u'hours_closed_mon',         u'hours_closed_sat',\n",
       "               u'hours_closed_sun',       u'hours_closed_thurs',\n",
       "              u'hours_closed_tues',         u'hours_closed_wed',\n",
       "                 u'hours_open_fri',           u'hours_open_mon',\n",
       "                 u'hours_open_sat',           u'hours_open_sun',\n",
       "               u'hours_open_thurs',          u'hours_open_tues',\n",
       "                 u'hours_open_wed',                       u'id',\n",
       "                      u'image_url',               u'is_claimed',\n",
       "                      u'is_closed',        u'location.address1',\n",
       "              u'location.address2',        u'location.address3',\n",
       "                  u'location.city',         u'location.country',\n",
       "         u'location.cross_streets', u'location.display_address',\n",
       "                 u'location.state',        u'location.zip_code',\n",
       "                           u'name',                    u'phone',\n",
       "                         u'photos',                    u'price',\n",
       "                         u'rating',             u'review_count',\n",
       "                        u'reviews',             u'transactions',\n",
       "                            u'url'],\n",
       "      dtype='object')"
      ]
     },
     "execution_count": 48,
     "metadata": {},
     "output_type": "execute_result"
    }
   ],
   "source": [
    "coffee_df = seattle_df[seattle_df['category-0'].isin(has_coffee)]\n",
    "coffee_df.columns"
   ]
  },
  {
   "cell_type": "code",
   "execution_count": 49,
   "metadata": {
    "collapsed": true
   },
   "outputs": [],
   "source": [
    "from sklearn.cluster import KMeans"
   ]
  },
  {
   "cell_type": "code",
   "execution_count": 50,
   "metadata": {
    "collapsed": false
   },
   "outputs": [],
   "source": [
    "map_location = coffee_df[['coordinates.longitude', 'coordinates.latitude']]\n",
    "# map_location = map_location[map_location['coordinates.longitude'] > 47.515]\n",
    "# map_location = map_location[map_location['coordinates.longitude'] < 47.69468]\n",
    "# map_location = map_location[map_location['coordinates.latitude'] < -122.420]\n",
    "# map_location = map_location[map_location['coordinates.latitude'] > -122.222]\n",
    "\n",
    "\n",
    "\n",
    "coffee_cluster = KMeans(n_clusters=9)\n",
    "\n",
    "coffee_cluster.fit(map_location)\n",
    "\n",
    "what_is_this = coffee_cluster.fit_predict(coffee_df[['coordinates.longitude', 'coordinates.latitude']])\n",
    "clustered_lats = []\n",
    "clustered_longs = []\n",
    "for n, i in enumerate(what_is_this):\n",
    "    lats = coffee_df[what_is_this == n]['coordinates.latitude'].values\n",
    "    longs = coffee_df[what_is_this == n]['coordinates.longitude'].values\n",
    "    clustered_lats.append(lats)\n",
    "    clustered_longs.append(longs)\n",
    "\n",
    "colors_list = ['crimson', 'darkseagreen', \n",
    "               'firebrick', 'dodgerblue', \n",
    "               'burlywood' 'gold',\n",
    "               'indigo',  'navy', \n",
    "               'indianred', 'lawngreen']\n",
    "\n",
    "longs = coffee_df['coordinates.longitude'].values\n",
    "lats = coffee_df['coordinates.latitude'].values\n",
    "\n",
    "s_lat = '47.629458' \n",
    "s_long = '-122.336338'\n",
    "\n",
    "cent_long = coffee_cluster.cluster_centers_[:,0]\n",
    "cent_lat = coffee_cluster.cluster_centers_[:,1]\n",
    "\n",
    "gmap = GoogleMapPlotter(s_lat, s_long, 11.8)\n",
    "\n",
    "for color, lats, longs in zip(colors_list, clustered_lats, clustered_longs):\n",
    "    gmap.scatter(lats, longs, color, size=50, marker=False)\n",
    "\n",
    "# gmap.plot(lats, longs, 'cornflowerblue', edge_width=10)\n",
    "# gmap.scatter(lats, longs, '#3B0B39', size=40, marker=False)\n",
    "# gmap.scatter(lats, longs, 'k', marker=True)\n",
    "# gmap.heatmap(lats, longs)\n",
    "c_longs = []\n",
    "c_lats = []\n",
    "for line in coffee_cluster.cluster_centers_:\n",
    "    c_longs.append(line[0])\n",
    "    c_lats.append(line[1])\n",
    "gmap.scatter(c_lats, c_longs, 'hotpink', size=40, marker=True)\n",
    "\n",
    "gmap.draw(\"../images/coffee_centers.html\")"
   ]
  },
  {
   "cell_type": "code",
   "execution_count": null,
   "metadata": {
    "collapsed": true
   },
   "outputs": [],
   "source": []
  }
 ],
 "metadata": {
  "anaconda-cloud": {},
  "kernelspec": {
   "display_name": "Python [conda root]",
   "language": "python",
   "name": "conda-root-py"
  },
  "language_info": {
   "codemirror_mode": {
    "name": "ipython",
    "version": 2
   },
   "file_extension": ".py",
   "mimetype": "text/x-python",
   "name": "python",
   "nbconvert_exporter": "python",
   "pygments_lexer": "ipython2",
   "version": "2.7.12"
  }
 },
 "nbformat": 4,
 "nbformat_minor": 1
}
