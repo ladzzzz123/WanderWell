{
 "cells": [
  {
   "cell_type": "code",
   "execution_count": 3,
   "metadata": {
    "collapsed": false
   },
   "outputs": [
    {
     "name": "stdout",
     "output_type": "stream",
     "text": [
      "The autoreload extension is already loaded. To reload it, use:\n",
      "  %reload_ext autoreload\n"
     ]
    }
   ],
   "source": [
    "import boto3\n",
    "\n",
    "import os\n",
    "\n",
    "import json\n",
    "\n",
    "import numpy as np\n",
    "import pandas as pd\n",
    "import matplotlib.pyplot as plt\n",
    "%matplotlib inline\n",
    "plt.style.use('ggplot')\n",
    "\n",
    "%load_ext autoreload\n",
    "%autoreload 2"
   ]
  },
  {
   "cell_type": "code",
   "execution_count": 5,
   "metadata": {
    "collapsed": true
   },
   "outputs": [],
   "source": [
    "jfolder = '../data/seattle-json/'\n",
    "\n",
    "files = os.listdir(jfolder)\n",
    "files = set(files)"
   ]
  },
  {
   "cell_type": "code",
   "execution_count": 6,
   "metadata": {
    "collapsed": false
   },
   "outputs": [],
   "source": [
    "### only run this code if you need to update from s3 bucket\n",
    "\n",
    "files = set(os.listdir(jfolder))\n",
    "\n",
    "# import sys\n",
    "# reload(sys)  # Reload does the trick!\n",
    "# sys.setdefaultencoding('UTF8')\n",
    "\n",
    "\n",
    "\n",
    "# bucket_name = 'wanderwell-world'\n",
    "# fnames = []\n",
    "\n",
    "# s3 =  boto3.resource('s3')\n",
    "# s3bucket = s3.Bucket(bucket_name)\n",
    "# for name in s3bucket.objects.all():\n",
    "#     fnames.append(name.key)\n",
    "\n",
    "# len(fnames)\n",
    "\n",
    "# for name in s3bucket.objects.all():\n",
    "#     fname = name.key\n",
    "#     if fname not in files and '.json' in fname :\n",
    "#         print fname\n",
    "#         s3.meta.client.download_file('wanderwell-world',\n",
    "#                                      fname,\n",
    "#                                     '{}{}'.format(jfolder,fname))\n",
    "    "
   ]
  },
  {
   "cell_type": "markdown",
   "metadata": {},
   "source": [
    "### FLATTENING THE DATAFRAME"
   ]
  },
  {
   "cell_type": "code",
   "execution_count": 7,
   "metadata": {
    "collapsed": false
   },
   "outputs": [
    {
     "data": {
      "text/plain": [
       "6403"
      ]
     },
     "execution_count": 7,
     "metadata": {},
     "output_type": "execute_result"
    }
   ],
   "source": [
    "len(os.listdir(jfolder))"
   ]
  },
  {
   "cell_type": "code",
   "execution_count": 8,
   "metadata": {
    "collapsed": false
   },
   "outputs": [],
   "source": [
    "daylist = ['mon', 'tues', 'wed', 'thurs', 'fri', 'sat', 'sun']\n",
    "\n",
    "poi_list = []\n",
    "cat_set = set()\n",
    "for bus in os.listdir(jfolder):\n",
    "    if bus.split('.')[-1] == 'json':\n",
    "            with open(jfolder+bus) as busfile:\n",
    "                bus_json = json.load(busfile)\n",
    "                cats = bus_json.pop('categories')\n",
    "                ### seperate hours into daily columns\n",
    "                if 'hours' in bus_json:\n",
    "                    hours_dict = bus_json.pop('hours')[0]['open']\n",
    "                else:\n",
    "                    hours_dict = None\n",
    "                for idx, day in enumerate(daylist) :\n",
    "                    try : \n",
    "                        bus_json['hours_open_{}'.format(day)] = hours_dict[idx]['start']\n",
    "                    except Exception: \n",
    "                        bus_json['hours_open_{}'.format(day)] = False\n",
    "                    try : \n",
    "                        bus_json['hours_closed_{}'.format(day)] = hours_dict[idx]['end']\n",
    "                    except Exception: \n",
    "                        bus_json['hours_closed_{}'.format(day)] = False\n",
    "                ### seprate catagories into individual columns (3 total)\n",
    "                for idx, val in enumerate(cats):\n",
    "                    bus_json['category-{}'.format(idx)] = val['alias']\n",
    "                    cat_set.add('cat: {}'.format(val['alias']))\n",
    "                poi_list.append(pd.io.json.json_normalize(bus_json))\n",
    "            continue\n",
    "\n",
    "seattle_df = pd.concat(poi_list)\n",
    "\n",
    "for cat in ['category-0','category-1','category-2'] :\n",
    "    seattle_df[cat].fillna(False,inplace=True)"
   ]
  },
  {
   "cell_type": "code",
   "execution_count": 11,
   "metadata": {
    "collapsed": false
   },
   "outputs": [
    {
     "data": {
      "text/plain": [
       "id\n",
       "pike-place-chowder-seattle                4440\n",
       "paseo-caribbean-food-fremont-seattle-2    4305\n",
       "piroshky-piroshky-seattle                 4033\n",
       "serious-pie-seattle                       3195\n",
       "pike-place-market-seattle                 2978\n",
       "toulouse-petit-seattle                    2827\n",
       "lola-seattle                              2787\n",
       "umi-sake-house-seattle                    2661\n",
       "the-pink-door-seattle-4                   2561\n",
       "local-360-seattle-2                       1906\n",
       "Name: review_count, dtype: int64"
      ]
     },
     "execution_count": 11,
     "metadata": {},
     "output_type": "execute_result"
    }
   ],
   "source": [
    "seattle_df_ = seattle_df.set_index('id')\n",
    "seattle_df_['review_count'].nlargest(10)"
   ]
  },
  {
   "cell_type": "code",
   "execution_count": 12,
   "metadata": {
    "collapsed": false
   },
   "outputs": [
    {
     "data": {
      "text/plain": [
       "id\n",
       "pike-place-market-seattle                    6347\n",
       "space-needle-seattle                         3870\n",
       "piroshky-piroshky-seattle                    3744\n",
       "pike-place-chowder-seattle                   3425\n",
       "toulouse-petit-seattle                       3055\n",
       "din-tai-fung-seattle                         2650\n",
       "the-pink-door-seattle-4                      2454\n",
       "skycity-at-the-needle-seattle-3              2252\n",
       "umi-sake-house-seattle                       2062\n",
       "starbucks-seattle-88                         2018\n",
       "beechers-handmade-cheese-seattle             1938\n",
       "safeco-field-seattle                         1925\n",
       "biscuit-bitch-seattle                        1873\n",
       "the-walrus-and-the-carpenter-seattle         1698\n",
       "the-crumpet-shop-seattle                     1691\n",
       "serious-pie-seattle                          1680\n",
       "pike-place-market-gum-wall-seattle           1654\n",
       "le-panier-french-bakery-seattle              1584\n",
       "local-360-seattle-2                          1561\n",
       "paseo-caribbean-food-fremont-seattle-2       1558\n",
       "sushi-kashiba-seattle                        1539\n",
       "canlis-seattle                               1525\n",
       "moore-coffee-shop-seattle                    1491\n",
       "ba-bar-seattle                               1368\n",
       "tilikum-place-cafe-seattle-3                 1353\n",
       "skillet-capitol-hill-seattle-2               1346\n",
       "hot-cakes-molten-chocolate-cakery-seattle    1296\n",
       "saltys-alki-beach-seattle                    1270\n",
       "purple-café-and-wine-bar-seattle-3           1242\n",
       "serious-pie-and-biscuit-seattle-6            1230\n",
       "Name: photos, dtype: int64"
      ]
     },
     "execution_count": 12,
     "metadata": {},
     "output_type": "execute_result"
    }
   ],
   "source": [
    "n_photos = seattle_df_['photos'].apply(lambda x : len(x))\n",
    "n_photos.nlargest(30)\n",
    "# n_photos.sum()"
   ]
  },
  {
   "cell_type": "code",
   "execution_count": 15,
   "metadata": {
    "collapsed": false
   },
   "outputs": [
    {
     "data": {
      "text/plain": [
       "636848"
      ]
     },
     "execution_count": 15,
     "metadata": {},
     "output_type": "execute_result"
    }
   ],
   "source": [
    "seattle_df['review_count'].sum()"
   ]
  },
  {
   "cell_type": "code",
   "execution_count": 16,
   "metadata": {
    "collapsed": false
   },
   "outputs": [
    {
     "data": {
      "text/plain": [
       "99.49195438212779"
      ]
     },
     "execution_count": 16,
     "metadata": {},
     "output_type": "execute_result"
    }
   ],
   "source": [
    "seattle_df['review_count'].mean()"
   ]
  },
  {
   "cell_type": "code",
   "execution_count": 17,
   "metadata": {
    "collapsed": false
   },
   "outputs": [
    {
     "data": {
      "text/plain": [
       "coffee              381\n",
       "pizza               142\n",
       "newamerican         131\n",
       "mexican             118\n",
       "grocery             114\n",
       "bakeries            113\n",
       "vietnamese          106\n",
       "hair                105\n",
       "bars                102\n",
       "sandwiches           96\n",
       "thai                 87\n",
       "parks                85\n",
       "foodtrucks           85\n",
       "autorepair           81\n",
       "pubs                 73\n",
       "generaldentistry     73\n",
       "japanese             71\n",
       "delis                66\n",
       "italian              65\n",
       "tradamerican         64\n",
       "burgers              62\n",
       "hotdogs              62\n",
       "cafes                60\n",
       "seafood              59\n",
       "chinese              56\n",
       "sushi                51\n",
       "othersalons          50\n",
       "realestateagents     50\n",
       "lounges              47\n",
       "convenience          47\n",
       "Name: category-0, dtype: int64"
      ]
     },
     "execution_count": 17,
     "metadata": {},
     "output_type": "execute_result"
    }
   ],
   "source": [
    "seattle_df['category-0'].value_counts().nlargest(30)"
   ]
  },
  {
   "cell_type": "markdown",
   "metadata": {},
   "source": [
    "### JSON FILE OF LIST OF CATAGORIES IS  defined below"
   ]
  },
  {
   "cell_type": "code",
   "execution_count": 19,
   "metadata": {
    "collapsed": false
   },
   "outputs": [
    {
     "data": {
      "text/plain": [
       "alias\n",
       "3dprinting      localservices\n",
       "abruzzese             italian\n",
       "absinthebars             bars\n",
       "acaibowls                food\n",
       "accessories           fashion\n",
       "Name: 0, dtype: object"
      ]
     },
     "execution_count": 19,
     "metadata": {},
     "output_type": "execute_result"
    }
   ],
   "source": [
    "catfile = '../data/categories.json'\n",
    "\n",
    "with open(catfile) as cats:\n",
    "    cat_son = json.load(cats)\n",
    "\n",
    "cat_df = pd.DataFrame(cat_son)\n",
    "\n",
    "cat_key = cat_df.set_index('alias')['parents']\n",
    "cat_key_m = cat_key.apply(lambda x: pd.Series(x))\n",
    "cat_key_m = cat_key_m[0]\n",
    "cat_key_m.head()"
   ]
  },
  {
   "cell_type": "code",
   "execution_count": 20,
   "metadata": {
    "collapsed": false
   },
   "outputs": [
    {
     "data": {
      "text/html": [
       "<div>\n",
       "<table border=\"1\" class=\"dataframe\">\n",
       "  <thead>\n",
       "    <tr style=\"text-align: right;\">\n",
       "      <th></th>\n",
       "      <th>alias</th>\n",
       "      <th>country_blacklist</th>\n",
       "      <th>country_whitelist</th>\n",
       "      <th>parents</th>\n",
       "      <th>title</th>\n",
       "    </tr>\n",
       "  </thead>\n",
       "  <tbody>\n",
       "    <tr>\n",
       "      <th>0</th>\n",
       "      <td>3dprinting</td>\n",
       "      <td>NaN</td>\n",
       "      <td>NaN</td>\n",
       "      <td>[localservices]</td>\n",
       "      <td>3D Printing</td>\n",
       "    </tr>\n",
       "    <tr>\n",
       "      <th>1</th>\n",
       "      <td>abruzzese</td>\n",
       "      <td>NaN</td>\n",
       "      <td>[IT]</td>\n",
       "      <td>[italian]</td>\n",
       "      <td>Abruzzese</td>\n",
       "    </tr>\n",
       "    <tr>\n",
       "      <th>2</th>\n",
       "      <td>absinthebars</td>\n",
       "      <td>NaN</td>\n",
       "      <td>[CZ]</td>\n",
       "      <td>[bars]</td>\n",
       "      <td>Absinthe Bars</td>\n",
       "    </tr>\n",
       "    <tr>\n",
       "      <th>3</th>\n",
       "      <td>acaibowls</td>\n",
       "      <td>[IT, MX, PL, AR, TR, CL]</td>\n",
       "      <td>NaN</td>\n",
       "      <td>[food]</td>\n",
       "      <td>Acai Bowls</td>\n",
       "    </tr>\n",
       "    <tr>\n",
       "      <th>4</th>\n",
       "      <td>accessories</td>\n",
       "      <td>NaN</td>\n",
       "      <td>NaN</td>\n",
       "      <td>[fashion]</td>\n",
       "      <td>Accessories</td>\n",
       "    </tr>\n",
       "  </tbody>\n",
       "</table>\n",
       "</div>"
      ],
      "text/plain": [
       "          alias         country_blacklist country_whitelist          parents  \\\n",
       "0    3dprinting                       NaN               NaN  [localservices]   \n",
       "1     abruzzese                       NaN              [IT]        [italian]   \n",
       "2  absinthebars                       NaN              [CZ]           [bars]   \n",
       "3     acaibowls  [IT, MX, PL, AR, TR, CL]               NaN           [food]   \n",
       "4   accessories                       NaN               NaN        [fashion]   \n",
       "\n",
       "           title  \n",
       "0    3D Printing  \n",
       "1      Abruzzese  \n",
       "2  Absinthe Bars  \n",
       "3     Acai Bowls  \n",
       "4    Accessories  "
      ]
     },
     "execution_count": 20,
     "metadata": {},
     "output_type": "execute_result"
    }
   ],
   "source": [
    "cat_df.head()"
   ]
  },
  {
   "cell_type": "markdown",
   "metadata": {},
   "source": [
    "#### EXTRACT ALL THROW AWAY CATAGORIES"
   ]
  },
  {
   "cell_type": "code",
   "execution_count": 21,
   "metadata": {
    "collapsed": false
   },
   "outputs": [
    {
     "data": {
      "text/plain": [
       "(104,)"
      ]
     },
     "execution_count": 21,
     "metadata": {},
     "output_type": "execute_result"
    }
   ],
   "source": [
    "cat_df.head()\n",
    "# cat_df.columns\n",
    "cat_key_m.value_counts().shape"
   ]
  },
  {
   "cell_type": "code",
   "execution_count": 22,
   "metadata": {
    "collapsed": false
   },
   "outputs": [
    {
     "name": "stdout",
     "output_type": "stream",
     "text": [
      "(401, 2)\n"
     ]
    },
    {
     "name": "stderr",
     "output_type": "stream",
     "text": [
      "/Users/travis/anaconda2/lib/python2.7/site-packages/pandas/computation/expressions.py:181: UserWarning: evaluating in Python space because the '+' operator is not supported by numexpr for the bool dtype, use '|' instead\n",
      "  unsupported[op_str]))\n"
     ]
    },
    {
     "data": {
      "text/html": [
       "<div>\n",
       "<table border=\"1\" class=\"dataframe\">\n",
       "  <thead>\n",
       "    <tr style=\"text-align: right;\">\n",
       "      <th></th>\n",
       "      <th>catagory</th>\n",
       "      <th>parent</th>\n",
       "    </tr>\n",
       "  </thead>\n",
       "  <tbody>\n",
       "    <tr>\n",
       "      <th>0</th>\n",
       "      <td>3dprinting</td>\n",
       "      <td>localservices</td>\n",
       "    </tr>\n",
       "    <tr>\n",
       "      <th>8</th>\n",
       "      <td>acupuncture</td>\n",
       "      <td>health</td>\n",
       "    </tr>\n",
       "    <tr>\n",
       "      <th>10</th>\n",
       "      <td>adoptionservices</td>\n",
       "      <td>localservices</td>\n",
       "    </tr>\n",
       "    <tr>\n",
       "      <th>12</th>\n",
       "      <td>adultedu</td>\n",
       "      <td>education</td>\n",
       "    </tr>\n",
       "    <tr>\n",
       "      <th>15</th>\n",
       "      <td>aerialfitness</td>\n",
       "      <td>fitness</td>\n",
       "    </tr>\n",
       "  </tbody>\n",
       "</table>\n",
       "</div>"
      ],
      "text/plain": [
       "            catagory         parent\n",
       "0         3dprinting  localservices\n",
       "8        acupuncture         health\n",
       "10  adoptionservices  localservices\n",
       "12          adultedu      education\n",
       "15     aerialfitness        fitness"
      ]
     },
     "execution_count": 22,
     "metadata": {},
     "output_type": "execute_result"
    }
   ],
   "source": [
    "cats_df = cat_key_m.reset_index()\n",
    "cats_df.columns = ['catagory', 'parent']\n",
    "cats_df.dropna(inplace=True)\n",
    "\n",
    "has_service = cats_df['parent'].str.contains('service')\n",
    "has_shopping = cats_df['parent'].str.contains('shopping')\n",
    "has_health = cats_df['parent'].str.contains('health')\n",
    "has_edu = cats_df['parent'].str.contains('education')\n",
    "has_fit = cats_df['parent'].str.contains('fitness')\n",
    "has_auto = cats_df['parent'].str.contains('auto')\n",
    "\n",
    "dumps = has_service + has_health  + has_auto + has_edu + has_fit\n",
    "\n",
    "dump_cats = cats_df[dumps.values]\n",
    "has_dump = set(dump_cats['catagory'].values)\n",
    "\n",
    "print dump_cats.shape\n",
    "dump_cats.head()"
   ]
  },
  {
   "cell_type": "markdown",
   "metadata": {},
   "source": [
    "#### EXTRACT ALL FOOD CATAGORIES"
   ]
  },
  {
   "cell_type": "code",
   "execution_count": 23,
   "metadata": {
    "collapsed": false
   },
   "outputs": [
    {
     "name": "stdout",
     "output_type": "stream",
     "text": [
      "(255, 2)\n"
     ]
    },
    {
     "data": {
      "text/html": [
       "<div>\n",
       "<table border=\"1\" class=\"dataframe\">\n",
       "  <thead>\n",
       "    <tr style=\"text-align: right;\">\n",
       "      <th></th>\n",
       "      <th>catagory</th>\n",
       "      <th>parent</th>\n",
       "    </tr>\n",
       "  </thead>\n",
       "  <tbody>\n",
       "    <tr>\n",
       "      <th>3</th>\n",
       "      <td>acaibowls</td>\n",
       "      <td>food</td>\n",
       "    </tr>\n",
       "    <tr>\n",
       "      <th>17</th>\n",
       "      <td>afghani</td>\n",
       "      <td>restaurants</td>\n",
       "    </tr>\n",
       "    <tr>\n",
       "      <th>18</th>\n",
       "      <td>african</td>\n",
       "      <td>restaurants</td>\n",
       "    </tr>\n",
       "    <tr>\n",
       "      <th>37</th>\n",
       "      <td>andalusian</td>\n",
       "      <td>restaurants</td>\n",
       "    </tr>\n",
       "    <tr>\n",
       "      <th>49</th>\n",
       "      <td>arabian</td>\n",
       "      <td>restaurants</td>\n",
       "    </tr>\n",
       "  </tbody>\n",
       "</table>\n",
       "</div>"
      ],
      "text/plain": [
       "      catagory       parent\n",
       "3    acaibowls         food\n",
       "17     afghani  restaurants\n",
       "18     african  restaurants\n",
       "37  andalusian  restaurants\n",
       "49     arabian  restaurants"
      ]
     },
     "execution_count": 23,
     "metadata": {},
     "output_type": "execute_result"
    }
   ],
   "source": [
    "cats_df = cat_key_m.reset_index()\n",
    "cats_df.columns = ['catagory', 'parent']\n",
    "food_bool = cats_df['parent'] == 'food'\n",
    "rest_bool = cats_df['parent'] == 'restaurants'\n",
    "all_food_bool = food_bool + rest_bool\n",
    "\n",
    "food_cats = cats_df[all_food_bool]\n",
    "has_food = set(food_cats['catagory'].values)\n",
    "\n",
    "print food_cats.shape\n",
    "food_cats.head()"
   ]
  },
  {
   "cell_type": "markdown",
   "metadata": {},
   "source": [
    "#### EXTRACT ALL NIGHTLIFE CATAGORIES"
   ]
  },
  {
   "cell_type": "code",
   "execution_count": 24,
   "metadata": {
    "collapsed": false
   },
   "outputs": [
    {
     "name": "stdout",
     "output_type": "stream",
     "text": [
      "(40, 2)\n"
     ]
    },
    {
     "data": {
      "text/html": [
       "<div>\n",
       "<table border=\"1\" class=\"dataframe\">\n",
       "  <thead>\n",
       "    <tr style=\"text-align: right;\">\n",
       "      <th></th>\n",
       "      <th>catagory</th>\n",
       "      <th>parent</th>\n",
       "    </tr>\n",
       "  </thead>\n",
       "  <tbody>\n",
       "    <tr>\n",
       "      <th>2</th>\n",
       "      <td>absinthebars</td>\n",
       "      <td>bars</td>\n",
       "    </tr>\n",
       "    <tr>\n",
       "      <th>13</th>\n",
       "      <td>adultentertainment</td>\n",
       "      <td>nightlife</td>\n",
       "    </tr>\n",
       "    <tr>\n",
       "      <th>26</th>\n",
       "      <td>airportlounges</td>\n",
       "      <td>bars</td>\n",
       "    </tr>\n",
       "    <tr>\n",
       "      <th>108</th>\n",
       "      <td>barcrawl</td>\n",
       "      <td>nightlife</td>\n",
       "    </tr>\n",
       "    <tr>\n",
       "      <th>110</th>\n",
       "      <td>bars</td>\n",
       "      <td>nightlife</td>\n",
       "    </tr>\n",
       "  </tbody>\n",
       "</table>\n",
       "</div>"
      ],
      "text/plain": [
       "               catagory     parent\n",
       "2          absinthebars       bars\n",
       "13   adultentertainment  nightlife\n",
       "26       airportlounges       bars\n",
       "108            barcrawl  nightlife\n",
       "110                bars  nightlife"
      ]
     },
     "execution_count": 24,
     "metadata": {},
     "output_type": "execute_result"
    }
   ],
   "source": [
    "cats_df = cat_key_m.reset_index()\n",
    "cats_df.columns = ['catagory', 'parent']\n",
    "club_bool = cats_df['parent'] == 'nightlife'\n",
    "bar_bool = cats_df['parent'] == 'bars'\n",
    "beer_bool = cats_df['parent'].str.contains('beer').fillna(False)\n",
    "wine_bool = cats_df['parent'].str.contains('wine').fillna(False)\n",
    "cocktail_bool = cats_df['parent'].str.contains('cocktail').fillna(False)\n",
    "\n",
    "\n",
    "all_drink_bool = club_bool + bar_bool + beer_bool + wine_bool + cocktail_bool\n",
    "\n",
    "nightlife_cats = cats_df[all_drink_bool]\n",
    "has_nightlife = set(nightlife_cats['catagory'].values)\n",
    "\n",
    "print nightlife_cats.shape\n",
    "nightlife_cats.head()"
   ]
  },
  {
   "cell_type": "code",
   "execution_count": 25,
   "metadata": {
    "collapsed": false
   },
   "outputs": [
    {
     "data": {
      "text/plain": [
       "40"
      ]
     },
     "execution_count": 25,
     "metadata": {},
     "output_type": "execute_result"
    }
   ],
   "source": [
    "len(has_nightlife)"
   ]
  },
  {
   "cell_type": "markdown",
   "metadata": {},
   "source": [
    "#### EXTRACT ALL COFFEE CATAGORIES"
   ]
  },
  {
   "cell_type": "code",
   "execution_count": 26,
   "metadata": {
    "collapsed": false
   },
   "outputs": [
    {
     "name": "stdout",
     "output_type": "stream",
     "text": [
      "(4, 2)\n"
     ]
    },
    {
     "data": {
      "text/html": [
       "<div>\n",
       "<table border=\"1\" class=\"dataframe\">\n",
       "  <thead>\n",
       "    <tr style=\"text-align: right;\">\n",
       "      <th></th>\n",
       "      <th>catagory</th>\n",
       "      <th>parent</th>\n",
       "    </tr>\n",
       "  </thead>\n",
       "  <tbody>\n",
       "    <tr>\n",
       "      <th>286</th>\n",
       "      <td>coffeeteasupplies</td>\n",
       "      <td>food</td>\n",
       "    </tr>\n",
       "  </tbody>\n",
       "</table>\n",
       "</div>"
      ],
      "text/plain": [
       "              catagory parent\n",
       "286  coffeeteasupplies   food"
      ]
     },
     "execution_count": 26,
     "metadata": {},
     "output_type": "execute_result"
    }
   ],
   "source": [
    "cats_df = cat_key_m.reset_index()\n",
    "cats_df.columns = ['catagory', 'parent']\n",
    "\n",
    "has_coffee = cats_df['catagory'].str.contains('coffee').fillna(False)\n",
    "\n",
    "coffee_cats = cats_df[has_coffee]\n",
    "has_coffee = set(coffee_cats['catagory'].values)\n",
    "\n",
    "print coffee_cats.shape\n",
    "coffee_cats[coffee_cats['catagory'].str.contains('tea')].head()"
   ]
  },
  {
   "cell_type": "markdown",
   "metadata": {},
   "source": [
    "## ADD CATAGORIES TO DATAFRAME"
   ]
  },
  {
   "cell_type": "code",
   "execution_count": 27,
   "metadata": {
    "collapsed": false
   },
   "outputs": [
    {
     "name": "stderr",
     "output_type": "stream",
     "text": [
      "/Users/travis/anaconda2/lib/python2.7/site-packages/pandas/computation/expressions.py:181: UserWarning: evaluating in Python space because the '*' operator is not supported by numexpr for the bool dtype, use '&' instead\n",
      "  unsupported[op_str]))\n"
     ]
    }
   ],
   "source": [
    "seattle_df_ = seattle_df.copy()\n",
    "\n",
    "seattle_df_['coffee'] = seattle_df_['category-0'].isin(has_coffee)\n",
    "seattle_df_['coffee'] = seattle_df_['coffee'] + seattle_df_['category-1'].isin(has_coffee)\n",
    "seattle_df_['coffee'] = seattle_df_['coffee'] + seattle_df_['category-2'].isin(has_coffee)\n",
    "\n",
    "\n",
    "seattle_df_['food'] = seattle_df_['category-0'].isin(has_food)\n",
    "seattle_df_['food'] = seattle_df_['food'] + seattle_df_['category-1'].isin(has_food)\n",
    "seattle_df_['food'] = seattle_df_['food'] + seattle_df_['category-2'].isin(has_food)\n",
    "\n",
    "seattle_df_['nightlife'] = seattle_df_['category-0'].isin(has_nightlife)\n",
    "seattle_df_['nightlife'] = seattle_df_['nightlife'] + seattle_df_['category-1'].isin(has_food)\n",
    "seattle_df_['nightlife'] = seattle_df_['nightlife'] + seattle_df_['category-2'].isin(has_food)\n",
    "\n",
    "seattle_df_['dump'] = seattle_df_['category-0'].isin(has_dump)\n",
    "seattle_df_['dump'] = seattle_df_['nightlife'] + seattle_df_['category-1'].isin(has_dump)\n",
    "seattle_df_['dump'] = seattle_df_['nightlife'] + seattle_df_['category-2'].isin(has_dump)\n",
    "seattle_df_['dump'] = seattle_df_['dump'] * np.invert(seattle_df_['food'])\n",
    "seattle_df_['dump'] = seattle_df_['dump'] * np.invert(seattle_df_['coffee'])\n",
    "seattle_df_['dump'] = seattle_df_['dump'] * np.invert(seattle_df_['nightlife'])"
   ]
  },
  {
   "cell_type": "code",
   "execution_count": 28,
   "metadata": {
    "collapsed": true
   },
   "outputs": [],
   "source": [
    "seattle_df_ = seattle_df_[seattle_df_['dump'] ==  False]"
   ]
  },
  {
   "cell_type": "code",
   "execution_count": 29,
   "metadata": {
    "collapsed": false
   },
   "outputs": [
    {
     "data": {
      "text/plain": [
       "(6240, 47)"
      ]
     },
     "execution_count": 29,
     "metadata": {},
     "output_type": "execute_result"
    }
   ],
   "source": [
    "seattle_df_.shape"
   ]
  },
  {
   "cell_type": "code",
   "execution_count": 30,
   "metadata": {
    "collapsed": false
   },
   "outputs": [
    {
     "data": {
      "text/plain": [
       "0"
      ]
     },
     "execution_count": 30,
     "metadata": {},
     "output_type": "execute_result"
    }
   ],
   "source": [
    "seattle_df_.dump.sum()"
   ]
  },
  {
   "cell_type": "code",
   "execution_count": 31,
   "metadata": {
    "collapsed": false
   },
   "outputs": [
    {
     "data": {
      "text/plain": [
       "3383"
      ]
     },
     "execution_count": 31,
     "metadata": {},
     "output_type": "execute_result"
    }
   ],
   "source": [
    "seattle_df_.food.sum()"
   ]
  },
  {
   "cell_type": "code",
   "execution_count": 32,
   "metadata": {
    "collapsed": false
   },
   "outputs": [
    {
     "data": {
      "text/plain": [
       "485"
      ]
     },
     "execution_count": 32,
     "metadata": {},
     "output_type": "execute_result"
    }
   ],
   "source": [
    "seattle_df_.coffee.sum()"
   ]
  },
  {
   "cell_type": "code",
   "execution_count": 33,
   "metadata": {
    "collapsed": false
   },
   "outputs": [
    {
     "data": {
      "text/plain": [
       "2400"
      ]
     },
     "execution_count": 33,
     "metadata": {},
     "output_type": "execute_result"
    }
   ],
   "source": [
    "seattle_df_.nightlife.sum()"
   ]
  },
  {
   "cell_type": "code",
   "execution_count": 34,
   "metadata": {
    "collapsed": false
   },
   "outputs": [
    {
     "data": {
      "text/plain": [
       "u'flowers'"
      ]
     },
     "execution_count": 34,
     "metadata": {},
     "output_type": "execute_result"
    }
   ],
   "source": [
    "cat_key_m['florists']"
   ]
  },
  {
   "cell_type": "markdown",
   "metadata": {},
   "source": [
    "### Plot datapoints on google map file"
   ]
  },
  {
   "cell_type": "code",
   "execution_count": 46,
   "metadata": {
    "collapsed": false
   },
   "outputs": [],
   "source": [
    "from gmplot import GoogleMapPlotter\n",
    "\n",
    "s_lat = '47.629458' \n",
    "s_long = '-122.336338'\n",
    "\n",
    "lats = seattle_df['coordinates.latitude'].values\n",
    "longs = seattle_df['coordinates.longitude'].values\n",
    "\n",
    "gmap = GoogleMapPlotter(s_lat, s_long, 13)\n",
    "\n",
    "\n",
    "gmap.plot?\n",
    "# gmap.plot(lats, longs, 'cornflowerblue', edge_width=10)\n",
    "# gmap.scatter(lats, longs, '#3B0B39', size=4, marker=False)\n",
    "# gmap.scatter(lats, longs, 'k', marker=True)\n",
    "# gmap.heatmap(lats, longs)\n",
    "\n",
    "# gmap.draw(\"../data/mymap_seattle.html\")\n",
    "gmap.draw('../data/seattle.html')"
   ]
  },
  {
   "cell_type": "code",
   "execution_count": null,
   "metadata": {
    "collapsed": false
   },
   "outputs": [],
   "source": [
    "pwd"
   ]
  },
  {
   "cell_type": "code",
   "execution_count": null,
   "metadata": {
    "collapsed": false
   },
   "outputs": [],
   "source": [
    "for reviews, name in (seattle_df[['reviews', 'name']].values[:2,:]):\n",
    "    print name"
   ]
  },
  {
   "cell_type": "code",
   "execution_count": 39,
   "metadata": {
    "collapsed": false
   },
   "outputs": [
    {
     "data": {
      "text/plain": [
       "Index([              u'category-0',               u'category-1',\n",
       "                     u'category-2',               u'category-3',\n",
       "           u'coordinates.latitude',    u'coordinates.longitude',\n",
       "                  u'display_phone',         u'hours_closed_fri',\n",
       "               u'hours_closed_mon',         u'hours_closed_sat',\n",
       "               u'hours_closed_sun',       u'hours_closed_thurs',\n",
       "              u'hours_closed_tues',         u'hours_closed_wed',\n",
       "                 u'hours_open_fri',           u'hours_open_mon',\n",
       "                 u'hours_open_sat',           u'hours_open_sun',\n",
       "               u'hours_open_thurs',          u'hours_open_tues',\n",
       "                 u'hours_open_wed',                       u'id',\n",
       "                      u'image_url',               u'is_claimed',\n",
       "                      u'is_closed',        u'location.address1',\n",
       "              u'location.address2',        u'location.address3',\n",
       "                  u'location.city',         u'location.country',\n",
       "         u'location.cross_streets', u'location.display_address',\n",
       "                 u'location.state',        u'location.zip_code',\n",
       "                           u'name',                    u'phone',\n",
       "                         u'photos',                    u'price',\n",
       "                         u'rating',             u'review_count',\n",
       "                        u'reviews',             u'transactions',\n",
       "                            u'url',                   u'coffee',\n",
       "                           u'food',                u'nightlife',\n",
       "                           u'dump'],\n",
       "      dtype='object')"
      ]
     },
     "execution_count": 39,
     "metadata": {},
     "output_type": "execute_result"
    }
   ],
   "source": [
    "seattle_df_.columns"
   ]
  },
  {
   "cell_type": "code",
   "execution_count": 48,
   "metadata": {
    "collapsed": false
   },
   "outputs": [
    {
     "data": {
      "text/plain": [
       "Index([              u'category-0',               u'category-1',\n",
       "                     u'category-2',               u'category-3',\n",
       "           u'coordinates.latitude',    u'coordinates.longitude',\n",
       "                  u'display_phone',         u'hours_closed_fri',\n",
       "               u'hours_closed_mon',         u'hours_closed_sat',\n",
       "               u'hours_closed_sun',       u'hours_closed_thurs',\n",
       "              u'hours_closed_tues',         u'hours_closed_wed',\n",
       "                 u'hours_open_fri',           u'hours_open_mon',\n",
       "                 u'hours_open_sat',           u'hours_open_sun',\n",
       "               u'hours_open_thurs',          u'hours_open_tues',\n",
       "                 u'hours_open_wed',                       u'id',\n",
       "                      u'image_url',               u'is_claimed',\n",
       "                      u'is_closed',        u'location.address1',\n",
       "              u'location.address2',        u'location.address3',\n",
       "                  u'location.city',         u'location.country',\n",
       "         u'location.cross_streets', u'location.display_address',\n",
       "                 u'location.state',        u'location.zip_code',\n",
       "                           u'name',                    u'phone',\n",
       "                         u'photos',                    u'price',\n",
       "                         u'rating',             u'review_count',\n",
       "                        u'reviews',             u'transactions',\n",
       "                            u'url'],\n",
       "      dtype='object')"
      ]
     },
     "execution_count": 48,
     "metadata": {},
     "output_type": "execute_result"
    }
   ],
   "source": [
    "coffee_df = seattle_df[seattle_df['category-0'].isin(has_coffee)]\n",
    "coffee_df.columns"
   ]
  },
  {
   "cell_type": "code",
   "execution_count": 49,
   "metadata": {
    "collapsed": true
   },
   "outputs": [],
   "source": [
    "from sklearn.cluster import KMeans"
   ]
  },
  {
   "cell_type": "code",
   "execution_count": 50,
   "metadata": {
    "collapsed": false
   },
   "outputs": [],
   "source": [
    "map_location = coffee_df[['coordinates.longitude', 'coordinates.latitude']]\n",
    "# map_location = map_location[map_location['coordinates.longitude'] > 47.515]\n",
    "# map_location = map_location[map_location['coordinates.longitude'] < 47.69468]\n",
    "# map_location = map_location[map_location['coordinates.latitude'] < -122.420]\n",
    "# map_location = map_location[map_location['coordinates.latitude'] > -122.222]\n",
    "\n",
    "\n",
    "\n",
    "coffee_cluster = KMeans(n_clusters=9)\n",
    "\n",
    "coffee_cluster.fit(map_location)\n",
    "\n",
    "what_is_this = coffee_cluster.fit_predict(coffee_df[['coordinates.longitude', 'coordinates.latitude']])\n",
    "clustered_lats = []\n",
    "clustered_longs = []\n",
    "for n, i in enumerate(what_is_this):\n",
    "    lats = coffee_df[what_is_this == n]['coordinates.latitude'].values\n",
    "    longs = coffee_df[what_is_this == n]['coordinates.longitude'].values\n",
    "    clustered_lats.append(lats)\n",
    "    clustered_longs.append(longs)\n",
    "\n",
    "colors_list = ['crimson', 'darkseagreen', \n",
    "               'firebrick', 'dodgerblue', \n",
    "               'burlywood' 'gold',\n",
    "               'indigo',  'navy', \n",
    "               'indianred', 'lawngreen']\n",
    "\n",
    "longs = coffee_df['coordinates.longitude'].values\n",
    "lats = coffee_df['coordinates.latitude'].values\n",
    "\n",
    "s_lat = '47.629458' \n",
    "s_long = '-122.336338'\n",
    "\n",
    "cent_long = coffee_cluster.cluster_centers_[:,0]\n",
    "cent_lat = coffee_cluster.cluster_centers_[:,1]\n",
    "\n",
    "gmap = GoogleMapPlotter(s_lat, s_long, 11.8)\n",
    "\n",
    "for color, lats, longs in zip(colors_list, clustered_lats, clustered_longs):\n",
    "    gmap.scatter(lats, longs, color, size=50, marker=False)\n",
    "\n",
    "# gmap.plot(lats, longs, 'cornflowerblue', edge_width=10)\n",
    "# gmap.scatter(lats, longs, '#3B0B39', size=40, marker=False)\n",
    "# gmap.scatter(lats, longs, 'k', marker=True)\n",
    "# gmap.heatmap(lats, longs)\n",
    "c_longs = []\n",
    "c_lats = []\n",
    "for line in coffee_cluster.cluster_centers_:\n",
    "    c_longs.append(line[0])\n",
    "    c_lats.append(line[1])\n",
    "gmap.scatter(c_lats, c_longs, 'hotpink', size=40, marker=True)\n",
    "\n",
    "gmap.draw(\"../images/coffee_centers.html\")"
   ]
  },
  {
   "cell_type": "code",
   "execution_count": null,
   "metadata": {
    "collapsed": true
   },
   "outputs": [],
   "source": []
  }
 ],
 "metadata": {
  "anaconda-cloud": {},
  "kernelspec": {
   "display_name": "Python [conda root]",
   "language": "python",
   "name": "conda-root-py"
  },
  "language_info": {
   "codemirror_mode": {
    "name": "ipython",
    "version": 2
   },
   "file_extension": ".py",
   "mimetype": "text/x-python",
   "name": "python",
   "nbconvert_exporter": "python",
   "pygments_lexer": "ipython2",
   "version": "2.7.12"
  }
 },
 "nbformat": 4,
 "nbformat_minor": 1
}
