{
 "cells": [
  {
   "cell_type": "code",
   "execution_count": 1,
   "metadata": {
    "collapsed": true
   },
   "outputs": [],
   "source": [
    "import boto3\n",
    "\n",
    "import os\n",
    "\n",
    "import json\n",
    "\n",
    "import numpy as np\n",
    "import pandas as pd\n",
    "import matplotlib.pyplot as plt\n",
    "%matplotlib inline\n",
    "plt.style.use('ggplot')\n",
    "\n",
    "%load_ext autoreload\n",
    "%autoreload 2"
   ]
  },
  {
   "cell_type": "code",
   "execution_count": 2,
   "metadata": {
    "collapsed": false
   },
   "outputs": [
    {
     "data": {
      "text/plain": [
       "u'/Users/travis/Documents/Education/Galvanize/Capstone/src'"
      ]
     },
     "execution_count": 2,
     "metadata": {},
     "output_type": "execute_result"
    }
   ],
   "source": [
    "pwd"
   ]
  },
  {
   "cell_type": "code",
   "execution_count": 3,
   "metadata": {
    "collapsed": true
   },
   "outputs": [],
   "source": [
    "floc = '/Users/travis/Documents/Education/Galvanize/Capstone/data/yelpscraperesults/bizids-sorted-uniq.txt'\n",
    "jfolder = '/Users/travis/Documents/Education/Galvanize/Capstone/Data/yelp-json-portland/'\n",
    "\n",
    "files = os.listdir(jfolder)\n",
    "files = set(files)"
   ]
  },
  {
   "cell_type": "code",
   "execution_count": 18,
   "metadata": {
    "collapsed": false
   },
   "outputs": [],
   "source": [
    "### only run this code if you need to update from s3 bucket\n",
    "\n",
    "files = set(os.listdir(jfolder))\n",
    "\n",
    "import sys\n",
    "reload(sys)  # Reload does the trick!\n",
    "sys.setdefaultencoding('UTF8')\n",
    "\n",
    "\n",
    "\n",
    "bucket_name = 'wanderwell-world-portland'\n",
    "fnames = []\n",
    "\n",
    "s3 =  boto3.resource('s3')\n",
    "s3bucket = s3.Bucket(bucket_name)\n",
    "for name in s3bucket.objects.all():\n",
    "    fnames.append(name.key)\n",
    "\n",
    "len(fnames)\n",
    "\n",
    "for name in s3bucket.objects.all():\n",
    "    fname = name.key\n",
    "    if fname not in files and '.json' in fname :\n",
    "        print fname\n",
    "        s3.meta.client.download_file(bucket_name,\n",
    "                                     fname,\n",
    "                                    '{}{}'.format(jfolder,fname))"
   ]
  },
  {
   "cell_type": "markdown",
   "metadata": {},
   "source": [
    "### FLATTENING THE DATAFRAME"
   ]
  },
  {
   "cell_type": "code",
   "execution_count": 4,
   "metadata": {
    "collapsed": false
   },
   "outputs": [
    {
     "data": {
      "text/plain": [
       "2989"
      ]
     },
     "execution_count": 4,
     "metadata": {},
     "output_type": "execute_result"
    }
   ],
   "source": [
    "len(os.listdir(jfolder))"
   ]
  },
  {
   "cell_type": "code",
   "execution_count": 9,
   "metadata": {
    "collapsed": false
   },
   "outputs": [
    {
     "name": "stdout",
     "output_type": "stream",
     "text": [
      "hawthorne-hideaway-portland.json\n",
      "lucky-horseshoe-lounge-portland.json\n",
      "vista-spring-cafe-portland.json\n"
     ]
    }
   ],
   "source": [
    "daylist = ['mon', 'tues', 'wed', 'thurs', 'fri', 'sat', 'sun']\n",
    "bad_list= []\n",
    "poi_list = []\n",
    "cat_set = set()\n",
    "for bus in os.listdir(jfolder):\n",
    "    if bus.split('.')[-1] == 'json':\n",
    "            with open(jfolder+bus) as busfile:\n",
    "                try: \n",
    "                    bus_json = json.load(busfile)\n",
    "                except Exception:\n",
    "                    print bus\n",
    "                    bad_list.append(bus)\n",
    "                    continue\n",
    "                cats = bus_json.pop('categories')\n",
    "                ### seperate hours into daily columns\n",
    "                if 'hours' in bus_json:\n",
    "                    hours_dict = bus_json.pop('hours')[0]['open']\n",
    "                else:\n",
    "                    hours_dict = None\n",
    "                for idx, day in enumerate(daylist) :\n",
    "                    try : \n",
    "                        bus_json['hours_open_{}'.format(day)] = hours_dict[idx]['start']\n",
    "                    except Exception: \n",
    "                        bus_json['hours_open_{}'.format(day)] = False\n",
    "                    try : \n",
    "                        bus_json['hours_closed_{}'.format(day)] = hours_dict[idx]['end']\n",
    "                    except Exception: \n",
    "                        bus_json['hours_closed_{}'.format(day)] = False\n",
    "                ### seprate catagories into individual columns (3 total)\n",
    "                for idx, val in enumerate(cats):\n",
    "                    bus_json['category-{}'.format(idx)] = val['alias']\n",
    "                    cat_set.add('cat: {}'.format(val['alias']))\n",
    "                poi_list.append(pd.io.json.json_normalize(bus_json))\n",
    "            continue\n",
    "\n",
    "yelp_df = pd.concat(poi_list)\n",
    "\n",
    "for cat in ['category-0','category-1','category-2'] :\n",
    "    yelp_df[cat].fillna(False,inplace=True)"
   ]
  },
  {
   "cell_type": "code",
   "execution_count": 10,
   "metadata": {
    "collapsed": false
   },
   "outputs": [
    {
     "data": {
      "text/plain": [
       "Index([              u'category-0',               u'category-1',\n",
       "                     u'category-2',               u'category-3',\n",
       "           u'coordinates.latitude',    u'coordinates.longitude',\n",
       "                  u'display_phone',         u'hours_closed_fri',\n",
       "               u'hours_closed_mon',         u'hours_closed_sat',\n",
       "               u'hours_closed_sun',       u'hours_closed_thurs',\n",
       "              u'hours_closed_tues',         u'hours_closed_wed',\n",
       "                 u'hours_open_fri',           u'hours_open_mon',\n",
       "                 u'hours_open_sat',           u'hours_open_sun',\n",
       "               u'hours_open_thurs',          u'hours_open_tues',\n",
       "                 u'hours_open_wed',                       u'id',\n",
       "                      u'image_url',               u'is_claimed',\n",
       "                      u'is_closed',        u'location.address1',\n",
       "              u'location.address2',        u'location.address3',\n",
       "                  u'location.city',         u'location.country',\n",
       "         u'location.cross_streets', u'location.display_address',\n",
       "                 u'location.state',        u'location.zip_code',\n",
       "                           u'name',                    u'phone',\n",
       "                         u'photos',                    u'price',\n",
       "                         u'rating',             u'review_count',\n",
       "                        u'reviews',             u'transactions',\n",
       "                            u'url'],\n",
       "      dtype='object')"
      ]
     },
     "execution_count": 10,
     "metadata": {},
     "output_type": "execute_result"
    }
   ],
   "source": [
    "yelp_df.columns"
   ]
  },
  {
   "cell_type": "code",
   "execution_count": 16,
   "metadata": {
    "collapsed": false
   },
   "outputs": [
    {
     "data": {
      "text/plain": [
       "281757"
      ]
     },
     "execution_count": 16,
     "metadata": {},
     "output_type": "execute_result"
    }
   ],
   "source": [
    "yelp_df_ = yelp_df.set_index('id')\n",
    "yelp_df_['review_count'].sum()"
   ]
  },
  {
   "cell_type": "code",
   "execution_count": 11,
   "metadata": {
    "collapsed": false
   },
   "outputs": [
    {
     "data": {
      "text/plain": [
       "id\n",
       "voodoo-doughnut-portland                        6720\n",
       "screen-door-portland                            4181\n",
       "mothers-bistro-and-bar-portland                 2826\n",
       "salt-and-straw-portland-2                       2402\n",
       "pine-state-biscuits-portland-2                  2151\n",
       "tasty-n-sons-portland                           2108\n",
       "tasty-n-alder-portland                          1894\n",
       "portland-city-grill-portland                    1890\n",
       "lúc-lác-portland-3                              1503\n",
       "voodoo-doughnut-too-portland                    1450\n",
       "the-waffle-window-portland                      1354\n",
       "toro-bravo-portland                             1198\n",
       "tin-shed-portland                               1192\n",
       "salt-and-straw-portland                         1187\n",
       "le-bistro-montage-portland                      1078\n",
       "jakes-famous-crawfish-portland                  1072\n",
       "pambiche-portland                               1061\n",
       "podnahs-pit-barbeque-portland                   1051\n",
       "pips-original-doughnuts-portland-2              1043\n",
       "mcmenamins-kennedy-school-portland              1024\n",
       "henrys-12th-street-tavern-portland              1004\n",
       "kenny-and-zukes-portland                         985\n",
       "little-bird-bistro-portland-2                    982\n",
       "le-pigeon-portland-2                             930\n",
       "gravy-portland                                   909\n",
       "nicholas-restaurant-portland-4                   897\n",
       "hopworks-urban-brewery-portland                  879\n",
       "petite-provence-portland-2                       874\n",
       "lardo-portland                                   859\n",
       "rogue-distillery-and-public-house-portland-5     857\n",
       "Name: review_count, dtype: int64"
      ]
     },
     "execution_count": 11,
     "metadata": {},
     "output_type": "execute_result"
    }
   ],
   "source": [
    "yelp_df_['review_count'].nlargest(30)"
   ]
  },
  {
   "cell_type": "code",
   "execution_count": 12,
   "metadata": {
    "collapsed": false
   },
   "outputs": [
    {
     "data": {
      "text/plain": [
       "94.35934360348293"
      ]
     },
     "execution_count": 12,
     "metadata": {},
     "output_type": "execute_result"
    }
   ],
   "source": [
    "yelp_df_['review_count'].mean()"
   ]
  },
  {
   "cell_type": "code",
   "execution_count": 17,
   "metadata": {
    "collapsed": false
   },
   "outputs": [
    {
     "data": {
      "text/plain": [
       "198937"
      ]
     },
     "execution_count": 17,
     "metadata": {},
     "output_type": "execute_result"
    }
   ],
   "source": [
    "n_photos = yelp_df_['photos'].apply(lambda x : len(x))\n",
    "n_photos.nlargest(30)\n",
    "n_photos.sum()"
   ]
  },
  {
   "cell_type": "code",
   "execution_count": 11,
   "metadata": {
    "collapsed": false
   },
   "outputs": [
    {
     "data": {
      "text/plain": [
       "coffee              381\n",
       "pizza               142\n",
       "newamerican         131\n",
       "mexican             118\n",
       "grocery             114\n",
       "bakeries            113\n",
       "vietnamese          106\n",
       "hair                105\n",
       "bars                102\n",
       "sandwiches           96\n",
       "thai                 87\n",
       "parks                85\n",
       "foodtrucks           85\n",
       "autorepair           81\n",
       "pubs                 73\n",
       "generaldentistry     73\n",
       "japanese             71\n",
       "delis                66\n",
       "italian              65\n",
       "tradamerican         64\n",
       "burgers              62\n",
       "hotdogs              62\n",
       "cafes                60\n",
       "seafood              59\n",
       "chinese              56\n",
       "sushi                51\n",
       "othersalons          50\n",
       "realestateagents     50\n",
       "lounges              47\n",
       "convenience          47\n",
       "Name: category-0, dtype: int64"
      ]
     },
     "execution_count": 11,
     "metadata": {},
     "output_type": "execute_result"
    }
   ],
   "source": [
    "yelp_df['category-0'].value_counts().nlargest(30)"
   ]
  },
  {
   "cell_type": "markdown",
   "metadata": {},
   "source": [
    "### JSON FILE OF LIST OF CATAGORIES IS  defined below"
   ]
  },
  {
   "cell_type": "code",
   "execution_count": 12,
   "metadata": {
    "collapsed": false
   },
   "outputs": [
    {
     "data": {
      "text/plain": [
       "alias\n",
       "3dprinting      localservices\n",
       "abruzzese             italian\n",
       "absinthebars             bars\n",
       "acaibowls                food\n",
       "accessories           fashion\n",
       "Name: 0, dtype: object"
      ]
     },
     "execution_count": 12,
     "metadata": {},
     "output_type": "execute_result"
    }
   ],
   "source": [
    "catfile = '/Users/travis/Documents/Education/Galvanize/Capstone/Data/categories.json'\n",
    "\n",
    "with open(catfile) as cats:\n",
    "    cat_son = json.load(cats)\n",
    "\n",
    "cat_df = pd.DataFrame(cat_son)\n",
    "\n",
    "cat_key = cat_df.set_index('alias')['parents']\n",
    "cat_key_m = cat_key.apply(lambda x: pd.Series(x))\n",
    "cat_key_m = cat_key_m[0]\n",
    "cat_key_m.head()"
   ]
  },
  {
   "cell_type": "code",
   "execution_count": 13,
   "metadata": {
    "collapsed": false
   },
   "outputs": [
    {
     "data": {
      "text/html": [
       "<div>\n",
       "<table border=\"1\" class=\"dataframe\">\n",
       "  <thead>\n",
       "    <tr style=\"text-align: right;\">\n",
       "      <th></th>\n",
       "      <th>alias</th>\n",
       "      <th>country_blacklist</th>\n",
       "      <th>country_whitelist</th>\n",
       "      <th>parents</th>\n",
       "      <th>title</th>\n",
       "    </tr>\n",
       "  </thead>\n",
       "  <tbody>\n",
       "    <tr>\n",
       "      <th>0</th>\n",
       "      <td>3dprinting</td>\n",
       "      <td>NaN</td>\n",
       "      <td>NaN</td>\n",
       "      <td>[localservices]</td>\n",
       "      <td>3D Printing</td>\n",
       "    </tr>\n",
       "    <tr>\n",
       "      <th>1</th>\n",
       "      <td>abruzzese</td>\n",
       "      <td>NaN</td>\n",
       "      <td>[IT]</td>\n",
       "      <td>[italian]</td>\n",
       "      <td>Abruzzese</td>\n",
       "    </tr>\n",
       "    <tr>\n",
       "      <th>2</th>\n",
       "      <td>absinthebars</td>\n",
       "      <td>NaN</td>\n",
       "      <td>[CZ]</td>\n",
       "      <td>[bars]</td>\n",
       "      <td>Absinthe Bars</td>\n",
       "    </tr>\n",
       "    <tr>\n",
       "      <th>3</th>\n",
       "      <td>acaibowls</td>\n",
       "      <td>[IT, MX, PL, AR, TR, CL]</td>\n",
       "      <td>NaN</td>\n",
       "      <td>[food]</td>\n",
       "      <td>Acai Bowls</td>\n",
       "    </tr>\n",
       "    <tr>\n",
       "      <th>4</th>\n",
       "      <td>accessories</td>\n",
       "      <td>NaN</td>\n",
       "      <td>NaN</td>\n",
       "      <td>[fashion]</td>\n",
       "      <td>Accessories</td>\n",
       "    </tr>\n",
       "  </tbody>\n",
       "</table>\n",
       "</div>"
      ],
      "text/plain": [
       "          alias         country_blacklist country_whitelist          parents  \\\n",
       "0    3dprinting                       NaN               NaN  [localservices]   \n",
       "1     abruzzese                       NaN              [IT]        [italian]   \n",
       "2  absinthebars                       NaN              [CZ]           [bars]   \n",
       "3     acaibowls  [IT, MX, PL, AR, TR, CL]               NaN           [food]   \n",
       "4   accessories                       NaN               NaN        [fashion]   \n",
       "\n",
       "           title  \n",
       "0    3D Printing  \n",
       "1      Abruzzese  \n",
       "2  Absinthe Bars  \n",
       "3     Acai Bowls  \n",
       "4    Accessories  "
      ]
     },
     "execution_count": 13,
     "metadata": {},
     "output_type": "execute_result"
    }
   ],
   "source": [
    "cat_df.head()"
   ]
  },
  {
   "cell_type": "markdown",
   "metadata": {},
   "source": [
    "#### EXTRACT ALL THROW AWAY CATAGORIES"
   ]
  },
  {
   "cell_type": "code",
   "execution_count": 14,
   "metadata": {
    "collapsed": false
   },
   "outputs": [
    {
     "data": {
      "text/plain": [
       "(104,)"
      ]
     },
     "execution_count": 14,
     "metadata": {},
     "output_type": "execute_result"
    }
   ],
   "source": [
    "cat_df.head()\n",
    "# cat_df.columns\n",
    "cat_key_m.value_counts().shape"
   ]
  },
  {
   "cell_type": "code",
   "execution_count": 15,
   "metadata": {
    "collapsed": false
   },
   "outputs": [
    {
     "data": {
      "text/html": [
       "<div>\n",
       "<table border=\"1\" class=\"dataframe\">\n",
       "  <thead>\n",
       "    <tr style=\"text-align: right;\">\n",
       "      <th></th>\n",
       "      <th>catagory</th>\n",
       "      <th>parent</th>\n",
       "    </tr>\n",
       "  </thead>\n",
       "  <tbody>\n",
       "    <tr>\n",
       "      <th>0</th>\n",
       "      <td>3dprinting</td>\n",
       "      <td>localservices</td>\n",
       "    </tr>\n",
       "    <tr>\n",
       "      <th>8</th>\n",
       "      <td>acupuncture</td>\n",
       "      <td>health</td>\n",
       "    </tr>\n",
       "    <tr>\n",
       "      <th>10</th>\n",
       "      <td>adoptionservices</td>\n",
       "      <td>localservices</td>\n",
       "    </tr>\n",
       "    <tr>\n",
       "      <th>12</th>\n",
       "      <td>adultedu</td>\n",
       "      <td>education</td>\n",
       "    </tr>\n",
       "    <tr>\n",
       "      <th>15</th>\n",
       "      <td>aerialfitness</td>\n",
       "      <td>fitness</td>\n",
       "    </tr>\n",
       "  </tbody>\n",
       "</table>\n",
       "</div>"
      ],
      "text/plain": [
       "            catagory         parent\n",
       "0         3dprinting  localservices\n",
       "8        acupuncture         health\n",
       "10  adoptionservices  localservices\n",
       "12          adultedu      education\n",
       "15     aerialfitness        fitness"
      ]
     },
     "execution_count": 15,
     "metadata": {},
     "output_type": "execute_result"
    }
   ],
   "source": [
    "cats_df = cat_key_m.reset_index()\n",
    "cats_df.columns = ['catagory', 'parent']\n",
    "cats_df.dropna(inplace=True)\n",
    "\n",
    "has_service = cats_df['parent'].str.contains('service')\n",
    "has_shopping = cats_df['parent'].str.contains('shopping')\n",
    "has_health = cats_df['parent'].str.contains('health')\n",
    "has_edu = cats_df['parent'].str.contains('education')\n",
    "has_fit = cats_df['parent'].str.contains('fitness')\n",
    "has_auto = cats_df['parent'].str.contains('auto')\n",
    "\n",
    "dumps = has_service + has_health  + has_auto + has_edu + has_fit\n",
    "\n",
    "dump_cats = cats_df[dumps.values]\n",
    "has_dump = set(dump_cats['catagory'].values)\n",
    "\n",
    "print dump_cats.shape\n",
    "dump_cats.head()"
   ]
  },
  {
   "cell_type": "markdown",
   "metadata": {},
   "source": [
    "#### EXTRACT ALL FOOD CATAGORIES"
   ]
  },
  {
   "cell_type": "code",
   "execution_count": 16,
   "metadata": {
    "collapsed": false
   },
   "outputs": [
    {
     "data": {
      "text/html": [
       "<div>\n",
       "<table border=\"1\" class=\"dataframe\">\n",
       "  <thead>\n",
       "    <tr style=\"text-align: right;\">\n",
       "      <th></th>\n",
       "      <th>catagory</th>\n",
       "      <th>parent</th>\n",
       "    </tr>\n",
       "  </thead>\n",
       "  <tbody>\n",
       "    <tr>\n",
       "      <th>3</th>\n",
       "      <td>acaibowls</td>\n",
       "      <td>food</td>\n",
       "    </tr>\n",
       "    <tr>\n",
       "      <th>17</th>\n",
       "      <td>afghani</td>\n",
       "      <td>restaurants</td>\n",
       "    </tr>\n",
       "    <tr>\n",
       "      <th>18</th>\n",
       "      <td>african</td>\n",
       "      <td>restaurants</td>\n",
       "    </tr>\n",
       "    <tr>\n",
       "      <th>37</th>\n",
       "      <td>andalusian</td>\n",
       "      <td>restaurants</td>\n",
       "    </tr>\n",
       "    <tr>\n",
       "      <th>49</th>\n",
       "      <td>arabian</td>\n",
       "      <td>restaurants</td>\n",
       "    </tr>\n",
       "  </tbody>\n",
       "</table>\n",
       "</div>"
      ],
      "text/plain": [
       "      catagory       parent\n",
       "3    acaibowls         food\n",
       "17     afghani  restaurants\n",
       "18     african  restaurants\n",
       "37  andalusian  restaurants\n",
       "49     arabian  restaurants"
      ]
     },
     "execution_count": 16,
     "metadata": {},
     "output_type": "execute_result"
    }
   ],
   "source": [
    "cats_df = cat_key_m.reset_index()\n",
    "cats_df.columns = ['catagory', 'parent']\n",
    "food_bool = cats_df['parent'] == 'food'\n",
    "rest_bool = cats_df['parent'] == 'restaurants'\n",
    "all_food_bool = food_bool + rest_bool\n",
    "\n",
    "food_cats = cats_df[all_food_bool]\n",
    "has_food = set(food_cats['catagory'].values)\n",
    "\n",
    "print food_cats.shape\n",
    "food_cats.head()"
   ]
  },
  {
   "cell_type": "markdown",
   "metadata": {},
   "source": [
    "#### EXTRACT ALL NIGHTLIFE CATAGORIES"
   ]
  },
  {
   "cell_type": "code",
   "execution_count": 17,
   "metadata": {
    "collapsed": false
   },
   "outputs": [
    {
     "data": {
      "text/html": [
       "<div>\n",
       "<table border=\"1\" class=\"dataframe\">\n",
       "  <thead>\n",
       "    <tr style=\"text-align: right;\">\n",
       "      <th></th>\n",
       "      <th>catagory</th>\n",
       "      <th>parent</th>\n",
       "    </tr>\n",
       "  </thead>\n",
       "  <tbody>\n",
       "    <tr>\n",
       "      <th>2</th>\n",
       "      <td>absinthebars</td>\n",
       "      <td>bars</td>\n",
       "    </tr>\n",
       "    <tr>\n",
       "      <th>13</th>\n",
       "      <td>adultentertainment</td>\n",
       "      <td>nightlife</td>\n",
       "    </tr>\n",
       "    <tr>\n",
       "      <th>26</th>\n",
       "      <td>airportlounges</td>\n",
       "      <td>bars</td>\n",
       "    </tr>\n",
       "    <tr>\n",
       "      <th>108</th>\n",
       "      <td>barcrawl</td>\n",
       "      <td>nightlife</td>\n",
       "    </tr>\n",
       "    <tr>\n",
       "      <th>110</th>\n",
       "      <td>bars</td>\n",
       "      <td>nightlife</td>\n",
       "    </tr>\n",
       "  </tbody>\n",
       "</table>\n",
       "</div>"
      ],
      "text/plain": [
       "               catagory     parent\n",
       "2          absinthebars       bars\n",
       "13   adultentertainment  nightlife\n",
       "26       airportlounges       bars\n",
       "108            barcrawl  nightlife\n",
       "110                bars  nightlife"
      ]
     },
     "execution_count": 17,
     "metadata": {},
     "output_type": "execute_result"
    }
   ],
   "source": [
    "cats_df = cat_key_m.reset_index()\n",
    "cats_df.columns = ['catagory', 'parent']\n",
    "club_bool = cats_df['parent'] == 'nightlife'\n",
    "bar_bool = cats_df['parent'] == 'bars'\n",
    "beer_bool = cats_df['parent'].str.contains('beer').fillna(False)\n",
    "wine_bool = cats_df['parent'].str.contains('wine').fillna(False)\n",
    "cocktail_bool = cats_df['parent'].str.contains('cocktail').fillna(False)\n",
    "\n",
    "\n",
    "all_drink_bool = club_bool + bar_bool + beer_bool + wine_bool + cocktail_bool\n",
    "\n",
    "nightlife_cats = cats_df[all_drink_bool]\n",
    "has_nightlife = set(nightlife_cats['catagory'].values)\n",
    "\n",
    "print nightlife_cats.shape\n",
    "nightlife_cats.head()"
   ]
  },
  {
   "cell_type": "code",
   "execution_count": 18,
   "metadata": {
    "collapsed": false
   },
   "outputs": [
    {
     "data": {
      "text/plain": [
       "40"
      ]
     },
     "execution_count": 18,
     "metadata": {},
     "output_type": "execute_result"
    }
   ],
   "source": [
    "len(has_nightlife)"
   ]
  },
  {
   "cell_type": "markdown",
   "metadata": {},
   "source": [
    "#### EXTRACT ALL COFFEE CATAGORIES"
   ]
  },
  {
   "cell_type": "code",
   "execution_count": 19,
   "metadata": {
    "collapsed": false
   },
   "outputs": [
    {
     "data": {
      "text/html": [
       "<div>\n",
       "<table border=\"1\" class=\"dataframe\">\n",
       "  <thead>\n",
       "    <tr style=\"text-align: right;\">\n",
       "      <th></th>\n",
       "      <th>catagory</th>\n",
       "      <th>parent</th>\n",
       "    </tr>\n",
       "  </thead>\n",
       "  <tbody>\n",
       "    <tr>\n",
       "      <th>286</th>\n",
       "      <td>coffeeteasupplies</td>\n",
       "      <td>food</td>\n",
       "    </tr>\n",
       "  </tbody>\n",
       "</table>\n",
       "</div>"
      ],
      "text/plain": [
       "              catagory parent\n",
       "286  coffeeteasupplies   food"
      ]
     },
     "execution_count": 19,
     "metadata": {},
     "output_type": "execute_result"
    }
   ],
   "source": [
    "cats_df = cat_key_m.reset_index()\n",
    "cats_df.columns = ['catagory', 'parent']\n",
    "\n",
    "has_coffee = cats_df['catagory'].str.contains('coffee').fillna(False)\n",
    "\n",
    "coffee_cats = cats_df[has_coffee]\n",
    "has_coffee = set(coffee_cats['catagory'].values)\n",
    "\n",
    "print coffee_cats.shape\n",
    "coffee_cats[coffee_cats['catagory'].str.contains('tea')].head()"
   ]
  },
  {
   "cell_type": "markdown",
   "metadata": {},
   "source": [
    "## ADD CATAGORIES TO DATAFRAME"
   ]
  },
  {
   "cell_type": "code",
   "execution_count": null,
   "metadata": {
    "collapsed": true
   },
   "outputs": [],
   "source": []
  },
  {
   "cell_type": "code",
   "execution_count": 20,
   "metadata": {
    "collapsed": false
   },
   "outputs": [],
   "source": [
    "yelp_df_ = yelp_df.copy()\n",
    "\n",
    "yelp_df_['coffee'] = yelp_df_['category-0'].isin(has_coffee)\n",
    "yelp_df_['coffee'] = yelp_df_['coffee'] + yelp_df_['category-1'].isin(has_coffee)\n",
    "yelp_df_['coffee'] = yelp_df_['coffee'] + yelp_df_['category-2'].isin(has_coffee)\n",
    "\n",
    "\n",
    "yelp_df_['food'] = yelp_df_['category-0'].isin(has_food)\n",
    "yelp_df_['food'] = yelp_df_['food'] + yelp_df_['category-1'].isin(has_food)\n",
    "yelp_df_['food'] = yelp_df_['food'] + yelp_df_['category-2'].isin(has_food)\n",
    "\n",
    "yelp_df_['nightlife'] = yelp_df_['category-0'].isin(has_nightlife)\n",
    "yelp_df_['nightlife'] = yelp_df_['nightlife'] + yelp_df_['category-1'].isin(has_food)\n",
    "yelp_df_['nightlife'] = yelp_df_['nightlife'] + yelp_df_['category-2'].isin(has_food)\n",
    "\n",
    "yelp_df_['dump'] = yelp_df_['category-0'].isin(has_dump)\n",
    "yelp_df_['dump'] = yelp_df_['nightlife'] + yelp_df_['category-1'].isin(has_dump)\n",
    "yelp_df_['dump'] = yelp_df_['nightlife'] + yelp_df_['category-2'].isin(has_dump)\n",
    "yelp_df_['dump'] = yelp_df_['dump'] * np.invert(yelp_df_['food'])\n",
    "yelp_df_['dump'] = yelp_df_['dump'] * np.invert(yelp_df_['coffee'])\n",
    "yelp_df_['dump'] = yelp_df_['dump'] * np.invert(yelp_df_['nightlife'])"
   ]
  },
  {
   "cell_type": "code",
   "execution_count": 21,
   "metadata": {
    "collapsed": true
   },
   "outputs": [],
   "source": [
    "yelp_df_ = yelp_df_[yelp_df_['dump'] ==  False]"
   ]
  },
  {
   "cell_type": "code",
   "execution_count": 22,
   "metadata": {
    "collapsed": false
   },
   "outputs": [
    {
     "data": {
      "text/plain": [
       "(6240, 47)"
      ]
     },
     "execution_count": 22,
     "metadata": {},
     "output_type": "execute_result"
    }
   ],
   "source": [
    "yelp_df_.shape"
   ]
  },
  {
   "cell_type": "code",
   "execution_count": 23,
   "metadata": {
    "collapsed": false
   },
   "outputs": [
    {
     "data": {
      "text/plain": [
       "0"
      ]
     },
     "execution_count": 23,
     "metadata": {},
     "output_type": "execute_result"
    }
   ],
   "source": [
    "yelp_df_.dump.sum()"
   ]
  },
  {
   "cell_type": "code",
   "execution_count": 24,
   "metadata": {
    "collapsed": false
   },
   "outputs": [
    {
     "data": {
      "text/plain": [
       "3383"
      ]
     },
     "execution_count": 24,
     "metadata": {},
     "output_type": "execute_result"
    }
   ],
   "source": [
    "yelp_df_.food.sum()"
   ]
  },
  {
   "cell_type": "code",
   "execution_count": 25,
   "metadata": {
    "collapsed": false
   },
   "outputs": [
    {
     "data": {
      "text/plain": [
       "485"
      ]
     },
     "execution_count": 25,
     "metadata": {},
     "output_type": "execute_result"
    }
   ],
   "source": [
    "yelp_df_.coffee.sum()"
   ]
  },
  {
   "cell_type": "code",
   "execution_count": 26,
   "metadata": {
    "collapsed": false
   },
   "outputs": [
    {
     "data": {
      "text/plain": [
       "2400"
      ]
     },
     "execution_count": 26,
     "metadata": {},
     "output_type": "execute_result"
    }
   ],
   "source": [
    "yelp_df_.nightlife.sum()"
   ]
  },
  {
   "cell_type": "code",
   "execution_count": 27,
   "metadata": {
    "collapsed": false
   },
   "outputs": [
    {
     "data": {
      "text/plain": [
       "u'flowers'"
      ]
     },
     "execution_count": 27,
     "metadata": {},
     "output_type": "execute_result"
    }
   ],
   "source": [
    "cat_key_m['florists']"
   ]
  },
  {
   "cell_type": "code",
   "execution_count": 28,
   "metadata": {
    "collapsed": false
   },
   "outputs": [
    {
     "data": {
      "text/html": [
       "<div>\n",
       "<table border=\"1\" class=\"dataframe\">\n",
       "  <thead>\n",
       "    <tr style=\"text-align: right;\">\n",
       "      <th></th>\n",
       "      <th>alias</th>\n",
       "      <th>country_blacklist</th>\n",
       "      <th>country_whitelist</th>\n",
       "      <th>parents</th>\n",
       "      <th>title</th>\n",
       "    </tr>\n",
       "  </thead>\n",
       "  <tbody>\n",
       "    <tr>\n",
       "      <th>491</th>\n",
       "      <td>florists</td>\n",
       "      <td>NaN</td>\n",
       "      <td>NaN</td>\n",
       "      <td>[flowers]</td>\n",
       "      <td>Florists</td>\n",
       "    </tr>\n",
       "  </tbody>\n",
       "</table>\n",
       "</div>"
      ],
      "text/plain": [
       "        alias country_blacklist country_whitelist    parents     title\n",
       "491  florists               NaN               NaN  [flowers]  Florists"
      ]
     },
     "execution_count": 28,
     "metadata": {},
     "output_type": "execute_result"
    }
   ],
   "source": [
    "cat_df[cat_df['alias'] == 'florists']"
   ]
  },
  {
   "cell_type": "markdown",
   "metadata": {},
   "source": [
    "### Plot datapoints on google map file"
   ]
  },
  {
   "cell_type": "code",
   "execution_count": 34,
   "metadata": {
    "collapsed": false
   },
   "outputs": [
    {
     "ename": "TypeError",
     "evalue": "unsupported operand type(s) for *: 'float' and 'NoneType'",
     "output_type": "error",
     "traceback": [
      "\u001b[0;31m---------------------------------------------------------------------------\u001b[0m",
      "\u001b[0;31mTypeError\u001b[0m                                 Traceback (most recent call last)",
      "\u001b[0;32m<ipython-input-34-9cac027699db>\u001b[0m in \u001b[0;36m<module>\u001b[0;34m()\u001b[0m\n\u001b[1;32m     11\u001b[0m \u001b[0;34m\u001b[0m\u001b[0m\n\u001b[1;32m     12\u001b[0m \u001b[0;31m# gmap.plot(lats, longs, 'cornflowerblue', edge_width=10)\u001b[0m\u001b[0;34m\u001b[0m\u001b[0;34m\u001b[0m\u001b[0m\n\u001b[0;32m---> 13\u001b[0;31m \u001b[0mgmap\u001b[0m\u001b[0;34m.\u001b[0m\u001b[0mscatter\u001b[0m\u001b[0;34m(\u001b[0m\u001b[0mlats\u001b[0m\u001b[0;34m,\u001b[0m \u001b[0mlongs\u001b[0m\u001b[0;34m,\u001b[0m \u001b[0;34m'#3B0B39'\u001b[0m\u001b[0;34m,\u001b[0m \u001b[0msize\u001b[0m\u001b[0;34m=\u001b[0m\u001b[0;36m4\u001b[0m\u001b[0;34m,\u001b[0m \u001b[0mmarker\u001b[0m\u001b[0;34m=\u001b[0m\u001b[0mFalse\u001b[0m\u001b[0;34m)\u001b[0m\u001b[0;34m\u001b[0m\u001b[0m\n\u001b[0m\u001b[1;32m     14\u001b[0m \u001b[0;31m# gmap.scatter(lats, longs, 'k', marker=True)\u001b[0m\u001b[0;34m\u001b[0m\u001b[0;34m\u001b[0m\u001b[0m\n\u001b[1;32m     15\u001b[0m \u001b[0;31m# gmap.heatmap(lats, longs)\u001b[0m\u001b[0;34m\u001b[0m\u001b[0;34m\u001b[0m\u001b[0m\n",
      "\u001b[0;32m/Users/travis/anaconda2/lib/python2.7/site-packages/gmplot/gmplot.pyc\u001b[0m in \u001b[0;36mscatter\u001b[0;34m(self, lats, lngs, color, size, marker, c, s, **kwargs)\u001b[0m\n\u001b[1;32m     63\u001b[0m                 \u001b[0mself\u001b[0m\u001b[0;34m.\u001b[0m\u001b[0mmarker\u001b[0m\u001b[0;34m(\u001b[0m\u001b[0mlat\u001b[0m\u001b[0;34m,\u001b[0m \u001b[0mlng\u001b[0m\u001b[0;34m,\u001b[0m \u001b[0msettings\u001b[0m\u001b[0;34m[\u001b[0m\u001b[0;34m'color'\u001b[0m\u001b[0;34m]\u001b[0m\u001b[0;34m)\u001b[0m\u001b[0;34m\u001b[0m\u001b[0m\n\u001b[1;32m     64\u001b[0m             \u001b[0;32melse\u001b[0m\u001b[0;34m:\u001b[0m\u001b[0;34m\u001b[0m\u001b[0m\n\u001b[0;32m---> 65\u001b[0;31m                 \u001b[0mself\u001b[0m\u001b[0;34m.\u001b[0m\u001b[0mcircle\u001b[0m\u001b[0;34m(\u001b[0m\u001b[0mlat\u001b[0m\u001b[0;34m,\u001b[0m \u001b[0mlng\u001b[0m\u001b[0;34m,\u001b[0m \u001b[0msize\u001b[0m\u001b[0;34m,\u001b[0m \u001b[0;34m**\u001b[0m\u001b[0msettings\u001b[0m\u001b[0;34m)\u001b[0m\u001b[0;34m\u001b[0m\u001b[0m\n\u001b[0m\u001b[1;32m     66\u001b[0m \u001b[0;34m\u001b[0m\u001b[0m\n\u001b[1;32m     67\u001b[0m     \u001b[0;32mdef\u001b[0m \u001b[0mcircle\u001b[0m\u001b[0;34m(\u001b[0m\u001b[0mself\u001b[0m\u001b[0;34m,\u001b[0m \u001b[0mlat\u001b[0m\u001b[0;34m,\u001b[0m \u001b[0mlng\u001b[0m\u001b[0;34m,\u001b[0m \u001b[0mradius\u001b[0m\u001b[0;34m,\u001b[0m \u001b[0mcolor\u001b[0m\u001b[0;34m=\u001b[0m\u001b[0mNone\u001b[0m\u001b[0;34m,\u001b[0m \u001b[0mc\u001b[0m\u001b[0;34m=\u001b[0m\u001b[0mNone\u001b[0m\u001b[0;34m,\u001b[0m \u001b[0;34m**\u001b[0m\u001b[0mkwargs\u001b[0m\u001b[0;34m)\u001b[0m\u001b[0;34m:\u001b[0m\u001b[0;34m\u001b[0m\u001b[0m\n",
      "\u001b[0;32m/Users/travis/anaconda2/lib/python2.7/site-packages/gmplot/gmplot.pyc\u001b[0m in \u001b[0;36mcircle\u001b[0;34m(self, lat, lng, radius, color, c, **kwargs)\u001b[0m\n\u001b[1;32m     71\u001b[0m         \u001b[0mkwargs\u001b[0m\u001b[0;34m.\u001b[0m\u001b[0msetdefault\u001b[0m\u001b[0;34m(\u001b[0m\u001b[0;34m\"color\"\u001b[0m\u001b[0;34m,\u001b[0m \u001b[0mcolor\u001b[0m\u001b[0;34m)\u001b[0m\u001b[0;34m\u001b[0m\u001b[0m\n\u001b[1;32m     72\u001b[0m         \u001b[0msettings\u001b[0m \u001b[0;34m=\u001b[0m \u001b[0mself\u001b[0m\u001b[0;34m.\u001b[0m\u001b[0m_process_kwargs\u001b[0m\u001b[0;34m(\u001b[0m\u001b[0mkwargs\u001b[0m\u001b[0;34m)\u001b[0m\u001b[0;34m\u001b[0m\u001b[0m\n\u001b[0;32m---> 73\u001b[0;31m         \u001b[0mpath\u001b[0m \u001b[0;34m=\u001b[0m \u001b[0mself\u001b[0m\u001b[0;34m.\u001b[0m\u001b[0mget_cycle\u001b[0m\u001b[0;34m(\u001b[0m\u001b[0mlat\u001b[0m\u001b[0;34m,\u001b[0m \u001b[0mlng\u001b[0m\u001b[0;34m,\u001b[0m \u001b[0mradius\u001b[0m\u001b[0;34m)\u001b[0m\u001b[0;34m\u001b[0m\u001b[0m\n\u001b[0m\u001b[1;32m     74\u001b[0m         \u001b[0mself\u001b[0m\u001b[0;34m.\u001b[0m\u001b[0mshapes\u001b[0m\u001b[0;34m.\u001b[0m\u001b[0mappend\u001b[0m\u001b[0;34m(\u001b[0m\u001b[0;34m(\u001b[0m\u001b[0mpath\u001b[0m\u001b[0;34m,\u001b[0m \u001b[0msettings\u001b[0m\u001b[0;34m)\u001b[0m\u001b[0;34m)\u001b[0m\u001b[0;34m\u001b[0m\u001b[0m\n\u001b[1;32m     75\u001b[0m \u001b[0;34m\u001b[0m\u001b[0m\n",
      "\u001b[0;32m/Users/travis/anaconda2/lib/python2.7/site-packages/gmplot/gmplot.pyc\u001b[0m in \u001b[0;36mget_cycle\u001b[0;34m(self, lat, lng, rad)\u001b[0m\n\u001b[1;32m    239\u001b[0m         \u001b[0mcycle\u001b[0m \u001b[0;34m=\u001b[0m \u001b[0;34m[\u001b[0m\u001b[0;34m]\u001b[0m\u001b[0;34m\u001b[0m\u001b[0m\n\u001b[1;32m    240\u001b[0m         \u001b[0md\u001b[0m \u001b[0;34m=\u001b[0m \u001b[0;34m(\u001b[0m\u001b[0mrad\u001b[0m \u001b[0;34m/\u001b[0m \u001b[0;36m1000.0\u001b[0m\u001b[0;34m)\u001b[0m \u001b[0;34m/\u001b[0m \u001b[0;36m6378.8\u001b[0m\u001b[0;34m\u001b[0m\u001b[0m\n\u001b[0;32m--> 241\u001b[0;31m         \u001b[0mlat1\u001b[0m \u001b[0;34m=\u001b[0m \u001b[0;34m(\u001b[0m\u001b[0mmath\u001b[0m\u001b[0;34m.\u001b[0m\u001b[0mpi\u001b[0m \u001b[0;34m/\u001b[0m \u001b[0;36m180.0\u001b[0m\u001b[0;34m)\u001b[0m \u001b[0;34m*\u001b[0m \u001b[0mlat\u001b[0m\u001b[0;34m\u001b[0m\u001b[0m\n\u001b[0m\u001b[1;32m    242\u001b[0m         \u001b[0mlng1\u001b[0m \u001b[0;34m=\u001b[0m \u001b[0;34m(\u001b[0m\u001b[0mmath\u001b[0m\u001b[0;34m.\u001b[0m\u001b[0mpi\u001b[0m \u001b[0;34m/\u001b[0m \u001b[0;36m180.0\u001b[0m\u001b[0;34m)\u001b[0m \u001b[0;34m*\u001b[0m \u001b[0mlng\u001b[0m\u001b[0;34m\u001b[0m\u001b[0m\n\u001b[1;32m    243\u001b[0m \u001b[0;34m\u001b[0m\u001b[0m\n",
      "\u001b[0;31mTypeError\u001b[0m: unsupported operand type(s) for *: 'float' and 'NoneType'"
     ]
    }
   ],
   "source": [
    "from gmplot import GoogleMapPlotter\n",
    "\n",
    "s_lat = '47.629458' \n",
    "s_long = '-122.336338'\n",
    "\n",
    "lats = yelp_df['coordinates.latitude'].values\n",
    "longs = yelp_df['coordinates.longitude'].values\n",
    "\n",
    "\n",
    "gmap = GoogleMapPlotter(s_lat, s_long, 13)\n",
    "\n",
    "# gmap.plot(lats, longs, 'cornflowerblue', edge_width=10)\n",
    "gmap.scatter(lats, longs, '#3B0B39', size=4, marker=False)\n",
    "# gmap.scatter(lats, longs, 'k', marker=True)\n",
    "# gmap.heatmap(lats, longs)\n",
    "\n",
    "gmap.draw(\"../data/mymap_yelp.html\")"
   ]
  },
  {
   "cell_type": "code",
   "execution_count": null,
   "metadata": {
    "collapsed": false
   },
   "outputs": [],
   "source": [
    "pwd"
   ]
  },
  {
   "cell_type": "code",
   "execution_count": null,
   "metadata": {
    "collapsed": false
   },
   "outputs": [],
   "source": [
    "for reviews, name in (yelp_df[['reviews', 'name']].values[:2,:]):\n",
    "    print name"
   ]
  },
  {
   "cell_type": "code",
   "execution_count": 39,
   "metadata": {
    "collapsed": false
   },
   "outputs": [
    {
     "data": {
      "text/plain": [
       "Index([              u'category-0',               u'category-1',\n",
       "                     u'category-2',               u'category-3',\n",
       "           u'coordinates.latitude',    u'coordinates.longitude',\n",
       "                  u'display_phone',         u'hours_closed_fri',\n",
       "               u'hours_closed_mon',         u'hours_closed_sat',\n",
       "               u'hours_closed_sun',       u'hours_closed_thurs',\n",
       "              u'hours_closed_tues',         u'hours_closed_wed',\n",
       "                 u'hours_open_fri',           u'hours_open_mon',\n",
       "                 u'hours_open_sat',           u'hours_open_sun',\n",
       "               u'hours_open_thurs',          u'hours_open_tues',\n",
       "                 u'hours_open_wed',                       u'id',\n",
       "                      u'image_url',               u'is_claimed',\n",
       "                      u'is_closed',        u'location.address1',\n",
       "              u'location.address2',        u'location.address3',\n",
       "                  u'location.city',         u'location.country',\n",
       "         u'location.cross_streets', u'location.display_address',\n",
       "                 u'location.state',        u'location.zip_code',\n",
       "                           u'name',                    u'phone',\n",
       "                         u'photos',                    u'price',\n",
       "                         u'rating',             u'review_count',\n",
       "                        u'reviews',             u'transactions',\n",
       "                            u'url',                   u'coffee',\n",
       "                           u'food',                u'nightlife',\n",
       "                           u'dump'],\n",
       "      dtype='object')"
      ]
     },
     "execution_count": 39,
     "metadata": {},
     "output_type": "execute_result"
    }
   ],
   "source": [
    "yelp_df_.columns"
   ]
  },
  {
   "cell_type": "code",
   "execution_count": 42,
   "metadata": {
    "collapsed": false
   },
   "outputs": [
    {
     "data": {
      "text/plain": [
       "Index([              u'category-0',               u'category-1',\n",
       "                     u'category-2',               u'category-3',\n",
       "           u'coordinates.latitude',    u'coordinates.longitude',\n",
       "                  u'display_phone',         u'hours_closed_fri',\n",
       "               u'hours_closed_mon',         u'hours_closed_sat',\n",
       "               u'hours_closed_sun',       u'hours_closed_thurs',\n",
       "              u'hours_closed_tues',         u'hours_closed_wed',\n",
       "                 u'hours_open_fri',           u'hours_open_mon',\n",
       "                 u'hours_open_sat',           u'hours_open_sun',\n",
       "               u'hours_open_thurs',          u'hours_open_tues',\n",
       "                 u'hours_open_wed',                       u'id',\n",
       "                      u'image_url',               u'is_claimed',\n",
       "                      u'is_closed',        u'location.address1',\n",
       "              u'location.address2',        u'location.address3',\n",
       "                  u'location.city',         u'location.country',\n",
       "         u'location.cross_streets', u'location.display_address',\n",
       "                 u'location.state',        u'location.zip_code',\n",
       "                           u'name',                    u'phone',\n",
       "                         u'photos',                    u'price',\n",
       "                         u'rating',             u'review_count',\n",
       "                        u'reviews',             u'transactions',\n",
       "                            u'url'],\n",
       "      dtype='object')"
      ]
     },
     "execution_count": 42,
     "metadata": {},
     "output_type": "execute_result"
    }
   ],
   "source": [
    "coffee_df = yelp_df[yelp_df['category-0'].isin(has_coffee)]\n",
    "coffee_df.columns"
   ]
  },
  {
   "cell_type": "code",
   "execution_count": 44,
   "metadata": {
    "collapsed": true
   },
   "outputs": [],
   "source": [
    "from sklearn.cluster import KMeans"
   ]
  },
  {
   "cell_type": "code",
   "execution_count": 52,
   "metadata": {
    "collapsed": false
   },
   "outputs": [],
   "source": [
    "map_location = coffee_df[['coordinates.longitude', 'coordinates.latitude']]\n",
    "# map_location = map_location[map_location['coordinates.longitude'] > 47.515]\n",
    "# map_location = map_location[map_location['coordinates.longitude'] < 47.69468]\n",
    "# map_location = map_location[map_location['coordinates.latitude'] < -122.420]\n",
    "# map_location = map_location[map_location['coordinates.latitude'] > -122.222]\n",
    "\n",
    "\n",
    "\n",
    "coffee_cluster = KMeans(n_clusters=9)\n",
    "\n",
    "coffee_cluster.fit(map_location)\n",
    "\n",
    "what_is_this = coffee_cluster.fit_predict(coffee_df[['coordinates.longitude', 'coordinates.latitude']])\n",
    "clustered_lats = []\n",
    "clustered_longs = []\n",
    "for n, i in enumerate(what_is_this):\n",
    "    lats = coffee_df[what_is_this == n]['coordinates.latitude'].values\n",
    "    longs = coffee_df[what_is_this == n]['coordinates.longitude'].values\n",
    "    clustered_lats.append(lats)\n",
    "    clustered_longs.append(longs)\n",
    "\n",
    "colors_list = ['crimson', 'darkseagreen', \n",
    "               'firebrick', 'dodgerblue', \n",
    "               'burlywood' 'gold',\n",
    "               'indigo',  'navy', \n",
    "               'indianred', 'lawngreen']\n",
    "\n",
    "longs = coffee_df['coordinates.longitude'].values\n",
    "lats = coffee_df['coordinates.latitude'].values\n",
    "\n",
    "s_lat = '47.629458' \n",
    "s_long = '-122.336338'\n",
    "\n",
    "cent_long = coffee_cluster.cluster_centers_[:,0]\n",
    "cent_lat = coffee_cluster.cluster_centers_[:,1]\n",
    "\n",
    "gmap = GoogleMapPlotter(s_lat, s_long, 11.8)\n",
    "\n",
    "for color, lats, longs in zip(colors_list, clustered_lats, clustered_longs):\n",
    "    gmap.scatter(lats, longs, color, size=50, marker=False)\n",
    "\n",
    "# gmap.plot(lats, longs, 'cornflowerblue', edge_width=10)\n",
    "# gmap.scatter(lats, longs, '#3B0B39', size=40, marker=False)\n",
    "# gmap.scatter(lats, longs, 'k', marker=True)\n",
    "# gmap.heatmap(lats, longs)\n",
    "c_longs = []\n",
    "c_lats = []\n",
    "for line in coffee_cluster.cluster_centers_:\n",
    "    c_longs.append(line[0])\n",
    "    c_lats.append(line[1])\n",
    "gmap.scatter(c_lats, c_longs, 'hotpink', size=40, marker=True)\n",
    "\n",
    "gmap.draw(\"../plots/coffee_centers.html\")"
   ]
  },
  {
   "cell_type": "code",
   "execution_count": null,
   "metadata": {
    "collapsed": true
   },
   "outputs": [],
   "source": []
  }
 ],
 "metadata": {
  "anaconda-cloud": {},
  "kernelspec": {
   "display_name": "Python [conda root]",
   "language": "python",
   "name": "conda-root-py"
  },
  "language_info": {
   "codemirror_mode": {
    "name": "ipython",
    "version": 2
   },
   "file_extension": ".py",
   "mimetype": "text/x-python",
   "name": "python",
   "nbconvert_exporter": "python",
   "pygments_lexer": "ipython2",
   "version": "2.7.12"
  }
 },
 "nbformat": 4,
 "nbformat_minor": 1
}
