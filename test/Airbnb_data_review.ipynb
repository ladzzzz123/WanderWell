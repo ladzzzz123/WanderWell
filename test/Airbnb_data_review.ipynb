{
 "cells": [
  {
   "cell_type": "code",
   "execution_count": 1,
   "metadata": {
    "collapsed": true
   },
   "outputs": [],
   "source": [
    "from sklearn.cluster import KMeans"
   ]
  },
  {
   "cell_type": "code",
   "execution_count": 2,
   "metadata": {
    "collapsed": false
   },
   "outputs": [],
   "source": [
    "import numpy as np\n",
    "import pandas as pd\n",
    "import matplotlib.pyplot as plt\n",
    "%matplotlib inline\n",
    "plt.style.use('ggplot')\n",
    "\n",
    "from gmplot import GoogleMapPlotter\n",
    "\n",
    "%load_ext autoreload\n",
    "%autoreload 2\n",
    "\n",
    "import json"
   ]
  },
  {
   "cell_type": "code",
   "execution_count": 3,
   "metadata": {
    "collapsed": true
   },
   "outputs": [],
   "source": [
    "bnb_fl = '../data/bnb-seattle.json'\n",
    "seattle_center = '47.629458, -122.336338'"
   ]
  },
  {
   "cell_type": "code",
   "execution_count": 4,
   "metadata": {
    "collapsed": false
   },
   "outputs": [],
   "source": [
    "with open(bnb_fl) as busfile:\n",
    "    bnb_json = json.load(busfile)\n",
    "    bnb_json_results = bnb_json['search_results']\n",
    "    bnb_seattle = pd.io.json.json_normalize(bnb_json_results)\n"
   ]
  },
  {
   "cell_type": "code",
   "execution_count": 16,
   "metadata": {
    "collapsed": false
   },
   "outputs": [
    {
     "data": {
      "text/plain": [
       "(2028, 64)"
      ]
     },
     "execution_count": 16,
     "metadata": {},
     "output_type": "execute_result"
    }
   ],
   "source": [
    "bnb_seattle_ = bnb_seattle[bnb_seattle['listing.city'].str.lower() == 'seattle']\n",
    "bnb_seattle_.shape"
   ]
  },
  {
   "cell_type": "code",
   "execution_count": 20,
   "metadata": {
    "collapsed": false
   },
   "outputs": [
    {
     "name": "stdout",
     "output_type": "stream",
     "text": [
      "<class 'pandas.core.frame.DataFrame'>\n",
      "Int64Index: 2028 entries, 0 to 2370\n",
      "Data columns (total 64 columns):\n",
      "listing.bathrooms                                   2028 non-null float64\n",
      "listing.bedrooms                                    2028 non-null int64\n",
      "listing.beds                                        2028 non-null float64\n",
      "listing.city                                        2028 non-null object\n",
      "listing.distance                                    0 non-null object\n",
      "listing.extra_host_languages                        2028 non-null object\n",
      "listing.id                                          2028 non-null int64\n",
      "listing.instant_bookable                            2028 non-null bool\n",
      "listing.is_business_travel_ready                    2028 non-null bool\n",
      "listing.is_new_listing                              2028 non-null bool\n",
      "listing.lat                                         2028 non-null float64\n",
      "listing.listing_tags                                2028 non-null object\n",
      "listing.lng                                         2028 non-null float64\n",
      "listing.localized_city                              2028 non-null object\n",
      "listing.name                                        2028 non-null object\n",
      "listing.neighborhood                                2008 non-null object\n",
      "listing.person_capacity                             2028 non-null int64\n",
      "listing.picture_count                               2028 non-null int64\n",
      "listing.picture_url                                 2028 non-null object\n",
      "listing.picture_urls                                2028 non-null object\n",
      "listing.preview_encoded_png                         2028 non-null object\n",
      "listing.primary_host.first_name                     2028 non-null object\n",
      "listing.primary_host.has_profile_pic                2028 non-null bool\n",
      "listing.primary_host.id                             2028 non-null int64\n",
      "listing.primary_host.is_superhost                   2028 non-null bool\n",
      "listing.primary_host.picture_url                    2028 non-null object\n",
      "listing.primary_host.smart_name                     2028 non-null object\n",
      "listing.primary_host.thumbnail_url                  2028 non-null object\n",
      "listing.property_type                               2028 non-null object\n",
      "listing.property_type_id                            2028 non-null int64\n",
      "listing.public_address                              2028 non-null object\n",
      "listing.reviews_count                               2028 non-null int64\n",
      "listing.room_type                                   2028 non-null object\n",
      "listing.room_type_category                          2028 non-null object\n",
      "listing.scrim_color                                 2028 non-null object\n",
      "listing.star_rating                                 1535 non-null float64\n",
      "listing.thumbnail_url                               2028 non-null object\n",
      "listing.user.first_name                             2028 non-null object\n",
      "listing.user.has_profile_pic                        2028 non-null bool\n",
      "listing.user.id                                     2028 non-null int64\n",
      "listing.user.is_superhost                           2028 non-null bool\n",
      "listing.user.picture_url                            2028 non-null object\n",
      "listing.user.smart_name                             2028 non-null object\n",
      "listing.user.thumbnail_url                          2028 non-null object\n",
      "listing.user_id                                     2028 non-null int64\n",
      "listing.xl_picture_url                              2028 non-null object\n",
      "listing.xl_picture_urls                             2028 non-null object\n",
      "pricing_quote.available                             2028 non-null bool\n",
      "pricing_quote.checkin                               0 non-null object\n",
      "pricing_quote.checkout                              0 non-null object\n",
      "pricing_quote.guest_details.number_of_adults        2028 non-null int64\n",
      "pricing_quote.guest_details.number_of_children      2028 non-null int64\n",
      "pricing_quote.guest_details.number_of_infants       2028 non-null int64\n",
      "pricing_quote.guests                                2028 non-null int64\n",
      "pricing_quote.listing_currency                      2028 non-null object\n",
      "pricing_quote.localized_currency                    2028 non-null object\n",
      "pricing_quote.localized_nightly_price               2028 non-null int64\n",
      "pricing_quote.localized_service_fee                 2028 non-null int64\n",
      "pricing_quote.localized_total_price                 2028 non-null int64\n",
      "pricing_quote.long_term_discount_amount_as_guest    2028 non-null int64\n",
      "pricing_quote.nightly_price                         2028 non-null int64\n",
      "pricing_quote.service_fee                           2028 non-null int64\n",
      "pricing_quote.total_price                           2028 non-null int64\n",
      "viewed_at                                           0 non-null object\n",
      "dtypes: bool(8), float64(5), int64(20), object(31)\n",
      "memory usage: 918.9+ KB\n"
     ]
    }
   ],
   "source": [
    "bnb_seattle_.info()"
   ]
  },
  {
   "cell_type": "code",
   "execution_count": 21,
   "metadata": {
    "collapsed": false
   },
   "outputs": [],
   "source": [
    "keep_cols = ['listing.bathrooms', 'listing.beds', 'listing.lat', 'listing.lng', 'listing.reviews_count'\n",
    "             ,'listing.room_type', 'listing.room_type_category', 'pricing_quote.total_price']\n",
    "\n",
    "bnb_seattle_reduced = bnb_seattle_[keep_cols]"
   ]
  },
  {
   "cell_type": "code",
   "execution_count": 23,
   "metadata": {
    "collapsed": false
   },
   "outputs": [
    {
     "data": {
      "text/plain": [
       "entire_home     1588\n",
       "private_room     425\n",
       "shared_room       15\n",
       "Name: listing.room_type_category, dtype: int64"
      ]
     },
     "execution_count": 23,
     "metadata": {},
     "output_type": "execute_result"
    }
   ],
   "source": [
    "bnb_seattle_reduced['listing.room_type_category'].value_counts()"
   ]
  },
  {
   "cell_type": "code",
   "execution_count": 13,
   "metadata": {
    "collapsed": false
   },
   "outputs": [
    {
     "data": {
      "text/plain": [
       "1    2372\n",
       "Name: pricing_quote.guests, dtype: int64"
      ]
     },
     "execution_count": 13,
     "metadata": {},
     "output_type": "execute_result"
    }
   ],
   "source": [
    "bnb_panda['pricing_quote.guests'].value_counts()"
   ]
  },
  {
   "cell_type": "code",
   "execution_count": 4,
   "metadata": {
    "collapsed": true
   },
   "outputs": [],
   "source": [
    "import pyspark.sql"
   ]
  },
  {
   "cell_type": "code",
   "execution_count": 5,
   "metadata": {
    "collapsed": false
   },
   "outputs": [],
   "source": [
    "bnb_panda['listing.public_address']\n",
    "\n",
    "bnb_list_seattle = bnb_panda[bnb_panda['listing.public_address'].str.contains('Seattle')]"
   ]
  },
  {
   "cell_type": "code",
   "execution_count": 82,
   "metadata": {
    "collapsed": false
   },
   "outputs": [
    {
     "data": {
      "text/plain": [
       "-122.4209176433197"
      ]
     },
     "execution_count": 82,
     "metadata": {},
     "output_type": "execute_result"
    }
   ],
   "source": [
    "bnb_list_seattle['listing.lng'].min()"
   ]
  },
  {
   "cell_type": "code",
   "execution_count": 128,
   "metadata": {
    "collapsed": false
   },
   "outputs": [
    {
     "ename": "ValueError",
     "evalue": "Found array with 0 sample(s) (shape=(0, 2)) while a minimum of 1 is required.",
     "output_type": "error",
     "traceback": [
      "\u001b[0;31m---------------------------------------------------------------------------\u001b[0m",
      "\u001b[0;31mValueError\u001b[0m                                Traceback (most recent call last)",
      "\u001b[0;32m<ipython-input-128-7abe0bec5f89>\u001b[0m in \u001b[0;36m<module>\u001b[0;34m()\u001b[0m\n\u001b[1;32m      9\u001b[0m \u001b[0mbnb_cluster\u001b[0m \u001b[0;34m=\u001b[0m \u001b[0mKMeans\u001b[0m\u001b[0;34m(\u001b[0m\u001b[0mn_clusters\u001b[0m\u001b[0;34m=\u001b[0m\u001b[0;36m9\u001b[0m\u001b[0;34m)\u001b[0m\u001b[0;34m\u001b[0m\u001b[0m\n\u001b[1;32m     10\u001b[0m \u001b[0;34m\u001b[0m\u001b[0m\n\u001b[0;32m---> 11\u001b[0;31m \u001b[0mbnb_cluster\u001b[0m\u001b[0;34m.\u001b[0m\u001b[0mfit\u001b[0m\u001b[0;34m(\u001b[0m\u001b[0mmap_location\u001b[0m\u001b[0;34m)\u001b[0m\u001b[0;34m\u001b[0m\u001b[0m\n\u001b[0m\u001b[1;32m     12\u001b[0m \u001b[0;34m\u001b[0m\u001b[0m\n\u001b[1;32m     13\u001b[0m \u001b[0mwhat_is_this\u001b[0m \u001b[0;34m=\u001b[0m \u001b[0mbnb_cluster\u001b[0m\u001b[0;34m.\u001b[0m\u001b[0mfit_predict\u001b[0m\u001b[0;34m(\u001b[0m\u001b[0mbnb_list_seattle\u001b[0m\u001b[0;34m[\u001b[0m\u001b[0;34m[\u001b[0m\u001b[0;34m'listing.lng'\u001b[0m\u001b[0;34m,\u001b[0m \u001b[0;34m'listing.lat'\u001b[0m\u001b[0;34m]\u001b[0m\u001b[0;34m]\u001b[0m\u001b[0;34m)\u001b[0m\u001b[0;34m\u001b[0m\u001b[0m\n",
      "\u001b[0;32m/Users/travis/anaconda2/lib/python2.7/site-packages/sklearn/cluster/k_means_.pyc\u001b[0m in \u001b[0;36mfit\u001b[0;34m(self, X, y)\u001b[0m\n\u001b[1;32m    878\u001b[0m         \"\"\"\n\u001b[1;32m    879\u001b[0m         \u001b[0mrandom_state\u001b[0m \u001b[0;34m=\u001b[0m \u001b[0mcheck_random_state\u001b[0m\u001b[0;34m(\u001b[0m\u001b[0mself\u001b[0m\u001b[0;34m.\u001b[0m\u001b[0mrandom_state\u001b[0m\u001b[0;34m)\u001b[0m\u001b[0;34m\u001b[0m\u001b[0m\n\u001b[0;32m--> 880\u001b[0;31m         \u001b[0mX\u001b[0m \u001b[0;34m=\u001b[0m \u001b[0mself\u001b[0m\u001b[0;34m.\u001b[0m\u001b[0m_check_fit_data\u001b[0m\u001b[0;34m(\u001b[0m\u001b[0mX\u001b[0m\u001b[0;34m)\u001b[0m\u001b[0;34m\u001b[0m\u001b[0m\n\u001b[0m\u001b[1;32m    881\u001b[0m \u001b[0;34m\u001b[0m\u001b[0m\n\u001b[1;32m    882\u001b[0m         \u001b[0mself\u001b[0m\u001b[0;34m.\u001b[0m\u001b[0mcluster_centers_\u001b[0m\u001b[0;34m,\u001b[0m \u001b[0mself\u001b[0m\u001b[0;34m.\u001b[0m\u001b[0mlabels_\u001b[0m\u001b[0;34m,\u001b[0m \u001b[0mself\u001b[0m\u001b[0;34m.\u001b[0m\u001b[0minertia_\u001b[0m\u001b[0;34m,\u001b[0m \u001b[0mself\u001b[0m\u001b[0;34m.\u001b[0m\u001b[0mn_iter_\u001b[0m \u001b[0;34m=\u001b[0m\u001b[0;31m \u001b[0m\u001b[0;31m\\\u001b[0m\u001b[0;34m\u001b[0m\u001b[0m\n",
      "\u001b[0;32m/Users/travis/anaconda2/lib/python2.7/site-packages/sklearn/cluster/k_means_.pyc\u001b[0m in \u001b[0;36m_check_fit_data\u001b[0;34m(self, X)\u001b[0m\n\u001b[1;32m    852\u001b[0m     \u001b[0;32mdef\u001b[0m \u001b[0m_check_fit_data\u001b[0m\u001b[0;34m(\u001b[0m\u001b[0mself\u001b[0m\u001b[0;34m,\u001b[0m \u001b[0mX\u001b[0m\u001b[0;34m)\u001b[0m\u001b[0;34m:\u001b[0m\u001b[0;34m\u001b[0m\u001b[0m\n\u001b[1;32m    853\u001b[0m         \u001b[0;34m\"\"\"Verify that the number of samples given is larger than k\"\"\"\u001b[0m\u001b[0;34m\u001b[0m\u001b[0m\n\u001b[0;32m--> 854\u001b[0;31m         \u001b[0mX\u001b[0m \u001b[0;34m=\u001b[0m \u001b[0mcheck_array\u001b[0m\u001b[0;34m(\u001b[0m\u001b[0mX\u001b[0m\u001b[0;34m,\u001b[0m \u001b[0maccept_sparse\u001b[0m\u001b[0;34m=\u001b[0m\u001b[0;34m'csr'\u001b[0m\u001b[0;34m,\u001b[0m \u001b[0mdtype\u001b[0m\u001b[0;34m=\u001b[0m\u001b[0;34m[\u001b[0m\u001b[0mnp\u001b[0m\u001b[0;34m.\u001b[0m\u001b[0mfloat64\u001b[0m\u001b[0;34m,\u001b[0m \u001b[0mnp\u001b[0m\u001b[0;34m.\u001b[0m\u001b[0mfloat32\u001b[0m\u001b[0;34m]\u001b[0m\u001b[0;34m)\u001b[0m\u001b[0;34m\u001b[0m\u001b[0m\n\u001b[0m\u001b[1;32m    855\u001b[0m         \u001b[0;32mif\u001b[0m \u001b[0mX\u001b[0m\u001b[0;34m.\u001b[0m\u001b[0mshape\u001b[0m\u001b[0;34m[\u001b[0m\u001b[0;36m0\u001b[0m\u001b[0;34m]\u001b[0m \u001b[0;34m<\u001b[0m \u001b[0mself\u001b[0m\u001b[0;34m.\u001b[0m\u001b[0mn_clusters\u001b[0m\u001b[0;34m:\u001b[0m\u001b[0;34m\u001b[0m\u001b[0m\n\u001b[1;32m    856\u001b[0m             raise ValueError(\"n_samples=%d should be >= n_clusters=%d\" % (\n",
      "\u001b[0;32m/Users/travis/anaconda2/lib/python2.7/site-packages/sklearn/utils/validation.pyc\u001b[0m in \u001b[0;36mcheck_array\u001b[0;34m(array, accept_sparse, dtype, order, copy, force_all_finite, ensure_2d, allow_nd, ensure_min_samples, ensure_min_features, warn_on_dtype, estimator)\u001b[0m\n\u001b[1;32m    414\u001b[0m                              \u001b[0;34m\" minimum of %d is required%s.\"\u001b[0m\u001b[0;34m\u001b[0m\u001b[0m\n\u001b[1;32m    415\u001b[0m                              % (n_samples, shape_repr, ensure_min_samples,\n\u001b[0;32m--> 416\u001b[0;31m                                 context))\n\u001b[0m\u001b[1;32m    417\u001b[0m \u001b[0;34m\u001b[0m\u001b[0m\n\u001b[1;32m    418\u001b[0m     \u001b[0;32mif\u001b[0m \u001b[0mensure_min_features\u001b[0m \u001b[0;34m>\u001b[0m \u001b[0;36m0\u001b[0m \u001b[0;32mand\u001b[0m \u001b[0marray\u001b[0m\u001b[0;34m.\u001b[0m\u001b[0mndim\u001b[0m \u001b[0;34m==\u001b[0m \u001b[0;36m2\u001b[0m\u001b[0;34m:\u001b[0m\u001b[0;34m\u001b[0m\u001b[0m\n",
      "\u001b[0;31mValueError\u001b[0m: Found array with 0 sample(s) (shape=(0, 2)) while a minimum of 1 is required."
     ]
    }
   ],
   "source": [
    "map_location = bnb_list_seattle[['listing.lng', 'listing.lat']]\n",
    "map_location = map_location[map_location['listing.lat'] > 47.515]\n",
    "map_location = map_location[map_location['listing.lat'] < 47.69468]\n",
    "map_location = map_location[map_location['listing.lat'] > -122.420]\n",
    "map_location = map_location[map_location['listing.lat'] < -122.222]\n",
    "\n",
    "\n",
    "\n",
    "bnb_cluster = KMeans(n_clusters=9)\n",
    "\n",
    "bnb_cluster.fit(map_location)\n",
    "\n",
    "what_is_this = bnb_cluster.fit_predict(bnb_list_seattle[['listing.lng', 'listing.lat']])\n",
    "clustered_lats = []\n",
    "clustered_longs = []\n",
    "for n, i in enumerate(what_is_this):\n",
    "    lats = bnb_list_seattle[what_is_this == n]['listing.lat'].values\n",
    "    longs = bnb_list_seattle[what_is_this == n]['listing.lng'].values\n",
    "    clustered_lats.append(lats)\n",
    "    clustered_longs.append(longs)\n",
    "\n",
    "colors_list = ['crimson', 'darkseagreen', \n",
    "               'firebrick', 'dodgerblue', \n",
    "               'burlywood' 'gold',\n",
    "               'indigo',  'navy', \n",
    "               'indianred', 'lawngreen']\n",
    "\n",
    "longs = bnb_list_seattle['listing.lng'].values\n",
    "lats = bnb_list_seattle['listing.lat'].values\n",
    "\n",
    "s_lat = '47.629458' \n",
    "s_long = '-122.336338'\n",
    "\n",
    "cent_long = bnb_cluster.cluster_centers_[:,0]\n",
    "cent_lat = bnb_cluster.cluster_centers_[:,1]\n",
    "\n",
    "gmap = GoogleMapPlotter(s_lat, s_long, 11.8)\n",
    "\n",
    "for color, lats, longs in zip(colors_list, clustered_lats, clustered_longs):\n",
    "    gmap.scatter(lats, longs, color, size=5, marker=False)\n",
    "\n",
    "# gmap.plot(lats, longs, 'cornflowerblue', edge_width=10)\n",
    "# gmap.scatter(lats, longs, '#3B0B39', size=40, marker=False)\n",
    "# gmap.scatter(lats, longs, 'k', marker=True)\n",
    "# gmap.heatmap(lats, longs)\n",
    "c_longs = []\n",
    "c_lats = []\n",
    "for line in bnb_cluster.cluster_centers_:\n",
    "    c_longs.append(line[0])\n",
    "    c_lats.append(line[1])\n",
    "gmap.scatter(c_lats, c_longs, 'hotpink', size=40, marker=True)\n",
    "\n",
    "gmap.draw(\"../plots/mymap_bnb_centers.html\")"
   ]
  }
 ],
 "metadata": {
  "anaconda-cloud": {},
  "kernelspec": {
   "display_name": "Python [default]",
   "language": "python",
   "name": "python2"
  },
  "language_info": {
   "codemirror_mode": {
    "name": "ipython",
    "version": 2
   },
   "file_extension": ".py",
   "mimetype": "text/x-python",
   "name": "python",
   "nbconvert_exporter": "python",
   "pygments_lexer": "ipython2",
   "version": "2.7.12"
  }
 },
 "nbformat": 4,
 "nbformat_minor": 1
}
